{
 "cells": [
  {
   "cell_type": "code",
   "execution_count": 203,
   "id": "97851cd6-ffda-4321-8f34-122771617735",
   "metadata": {},
   "outputs": [],
   "source": [
    "import os\n",
    "import pandas as pd\n",
    "import numpy as np\n",
    "import matplotlib.pyplot as plt\n",
    "import seaborn as sns\n",
    "from collections import Counter\n",
    "from sklearn.tree import DecisionTreeRegressor\n",
    "from sklearn.ensemble import RandomForestRegressor\n",
    "from sklearn.ensemble import GradientBoostingRegressor\n",
    "from sklearn.linear_model import LinearRegression  #ML algorithm\n",
    "from sklearn.model_selection import train_test_split #spliting a datasets\n",
    "from sklearn.metrics import mean_squared_error\n",
    "from sklearn.metrics import r2_score\n",
    "from pprint import pprint\n",
    "from sklearn.model_selection import GridSearchCV\n",
    "\n",
    "%matplotlib inline\n"
   ]
  },
  {
   "cell_type": "code",
   "execution_count": 205,
   "id": "8f0fe547-8d28-450f-a8e5-a1c3a790eb36",
   "metadata": {},
   "outputs": [
    {
     "name": "stdout",
     "output_type": "stream",
     "text": [
      "C:\\Users\\Gaikwad\\Documents\\python_file\n"
     ]
    }
   ],
   "source": [
    "#Setting the working directory\n",
    "\n",
    "os.chdir(\"C:/Users/Gaikwad/Documents/python_file\")\n",
    "print(os.getcwd())"
   ]
  },
  {
   "cell_type": "code",
   "execution_count": 207,
   "id": "66cf1d08-f342-44ef-84c0-8e627e3c6394",
   "metadata": {},
   "outputs": [],
   "source": [
    "\n",
    "#Loading the data\n",
    "\n",
    "train= pd.read_csv(\"train_cab.csv\", na_values={\"pickup_datetime\":\"43\"})\n",
    "test= pd.read_csv(\"test_cab.csv\")\n"
   ]
  },
  {
   "cell_type": "code",
   "execution_count": 209,
   "id": "0093274a-1daf-43e9-919b-48e0e93f2217",
   "metadata": {},
   "outputs": [
    {
     "data": {
      "text/html": [
       "<div>\n",
       "<style scoped>\n",
       "    .dataframe tbody tr th:only-of-type {\n",
       "        vertical-align: middle;\n",
       "    }\n",
       "\n",
       "    .dataframe tbody tr th {\n",
       "        vertical-align: top;\n",
       "    }\n",
       "\n",
       "    .dataframe thead th {\n",
       "        text-align: right;\n",
       "    }\n",
       "</style>\n",
       "<table border=\"1\" class=\"dataframe\">\n",
       "  <thead>\n",
       "    <tr style=\"text-align: right;\">\n",
       "      <th></th>\n",
       "      <th>fare_amount</th>\n",
       "      <th>pickup_datetime</th>\n",
       "      <th>pickup_longitude</th>\n",
       "      <th>pickup_latitude</th>\n",
       "      <th>dropoff_longitude</th>\n",
       "      <th>dropoff_latitude</th>\n",
       "      <th>passenger_count</th>\n",
       "    </tr>\n",
       "  </thead>\n",
       "  <tbody>\n",
       "    <tr>\n",
       "      <th>0</th>\n",
       "      <td>4.5</td>\n",
       "      <td>2009-06-15 17:26:21 UTC</td>\n",
       "      <td>-73.844311</td>\n",
       "      <td>40.721319</td>\n",
       "      <td>-73.841610</td>\n",
       "      <td>40.712278</td>\n",
       "      <td>1.0</td>\n",
       "    </tr>\n",
       "    <tr>\n",
       "      <th>1</th>\n",
       "      <td>16.9</td>\n",
       "      <td>2010-01-05 16:52:16 UTC</td>\n",
       "      <td>-74.016048</td>\n",
       "      <td>40.711303</td>\n",
       "      <td>-73.979268</td>\n",
       "      <td>40.782004</td>\n",
       "      <td>1.0</td>\n",
       "    </tr>\n",
       "    <tr>\n",
       "      <th>2</th>\n",
       "      <td>5.7</td>\n",
       "      <td>2011-08-18 00:35:00 UTC</td>\n",
       "      <td>-73.982738</td>\n",
       "      <td>40.761270</td>\n",
       "      <td>-73.991242</td>\n",
       "      <td>40.750562</td>\n",
       "      <td>2.0</td>\n",
       "    </tr>\n",
       "    <tr>\n",
       "      <th>3</th>\n",
       "      <td>7.7</td>\n",
       "      <td>2012-04-21 04:30:42 UTC</td>\n",
       "      <td>-73.987130</td>\n",
       "      <td>40.733143</td>\n",
       "      <td>-73.991567</td>\n",
       "      <td>40.758092</td>\n",
       "      <td>1.0</td>\n",
       "    </tr>\n",
       "    <tr>\n",
       "      <th>4</th>\n",
       "      <td>5.3</td>\n",
       "      <td>2010-03-09 07:51:00 UTC</td>\n",
       "      <td>-73.968095</td>\n",
       "      <td>40.768008</td>\n",
       "      <td>-73.956655</td>\n",
       "      <td>40.783762</td>\n",
       "      <td>1.0</td>\n",
       "    </tr>\n",
       "    <tr>\n",
       "      <th>...</th>\n",
       "      <td>...</td>\n",
       "      <td>...</td>\n",
       "      <td>...</td>\n",
       "      <td>...</td>\n",
       "      <td>...</td>\n",
       "      <td>...</td>\n",
       "      <td>...</td>\n",
       "    </tr>\n",
       "    <tr>\n",
       "      <th>16062</th>\n",
       "      <td>6.5</td>\n",
       "      <td>2014-12-12 07:41:00 UTC</td>\n",
       "      <td>-74.008820</td>\n",
       "      <td>40.718757</td>\n",
       "      <td>-73.998865</td>\n",
       "      <td>40.719987</td>\n",
       "      <td>1.0</td>\n",
       "    </tr>\n",
       "    <tr>\n",
       "      <th>16063</th>\n",
       "      <td>16.1</td>\n",
       "      <td>2009-07-13 07:58:00 UTC</td>\n",
       "      <td>-73.981310</td>\n",
       "      <td>40.781695</td>\n",
       "      <td>-74.014392</td>\n",
       "      <td>40.715527</td>\n",
       "      <td>2.0</td>\n",
       "    </tr>\n",
       "    <tr>\n",
       "      <th>16064</th>\n",
       "      <td>8.5</td>\n",
       "      <td>2009-11-11 11:19:07 UTC</td>\n",
       "      <td>-73.972507</td>\n",
       "      <td>40.753417</td>\n",
       "      <td>-73.979577</td>\n",
       "      <td>40.765495</td>\n",
       "      <td>1.0</td>\n",
       "    </tr>\n",
       "    <tr>\n",
       "      <th>16065</th>\n",
       "      <td>8.1</td>\n",
       "      <td>2010-05-11 23:53:00 UTC</td>\n",
       "      <td>-73.957027</td>\n",
       "      <td>40.765945</td>\n",
       "      <td>-73.981983</td>\n",
       "      <td>40.779560</td>\n",
       "      <td>1.0</td>\n",
       "    </tr>\n",
       "    <tr>\n",
       "      <th>16066</th>\n",
       "      <td>8.5</td>\n",
       "      <td>2011-12-14 06:24:33 UTC</td>\n",
       "      <td>-74.002111</td>\n",
       "      <td>40.729755</td>\n",
       "      <td>-73.983877</td>\n",
       "      <td>40.761975</td>\n",
       "      <td>NaN</td>\n",
       "    </tr>\n",
       "  </tbody>\n",
       "</table>\n",
       "<p>16067 rows × 7 columns</p>\n",
       "</div>"
      ],
      "text/plain": [
       "      fare_amount          pickup_datetime  pickup_longitude  pickup_latitude  \\\n",
       "0             4.5  2009-06-15 17:26:21 UTC        -73.844311        40.721319   \n",
       "1            16.9  2010-01-05 16:52:16 UTC        -74.016048        40.711303   \n",
       "2             5.7  2011-08-18 00:35:00 UTC        -73.982738        40.761270   \n",
       "3             7.7  2012-04-21 04:30:42 UTC        -73.987130        40.733143   \n",
       "4             5.3  2010-03-09 07:51:00 UTC        -73.968095        40.768008   \n",
       "...           ...                      ...               ...              ...   \n",
       "16062         6.5  2014-12-12 07:41:00 UTC        -74.008820        40.718757   \n",
       "16063        16.1  2009-07-13 07:58:00 UTC        -73.981310        40.781695   \n",
       "16064         8.5  2009-11-11 11:19:07 UTC        -73.972507        40.753417   \n",
       "16065         8.1  2010-05-11 23:53:00 UTC        -73.957027        40.765945   \n",
       "16066         8.5  2011-12-14 06:24:33 UTC        -74.002111        40.729755   \n",
       "\n",
       "       dropoff_longitude  dropoff_latitude  passenger_count  \n",
       "0             -73.841610         40.712278              1.0  \n",
       "1             -73.979268         40.782004              1.0  \n",
       "2             -73.991242         40.750562              2.0  \n",
       "3             -73.991567         40.758092              1.0  \n",
       "4             -73.956655         40.783762              1.0  \n",
       "...                  ...               ...              ...  \n",
       "16062         -73.998865         40.719987              1.0  \n",
       "16063         -74.014392         40.715527              2.0  \n",
       "16064         -73.979577         40.765495              1.0  \n",
       "16065         -73.981983         40.779560              1.0  \n",
       "16066         -73.983877         40.761975              NaN  \n",
       "\n",
       "[16067 rows x 7 columns]"
      ]
     },
     "execution_count": 209,
     "metadata": {},
     "output_type": "execute_result"
    }
   ],
   "source": [
    "\n",
    "train\n"
   ]
  },
  {
   "cell_type": "code",
   "execution_count": 211,
   "id": "3ad699eb-3082-4c59-ba23-c701f4910fc1",
   "metadata": {},
   "outputs": [
    {
     "data": {
      "text/html": [
       "<div>\n",
       "<style scoped>\n",
       "    .dataframe tbody tr th:only-of-type {\n",
       "        vertical-align: middle;\n",
       "    }\n",
       "\n",
       "    .dataframe tbody tr th {\n",
       "        vertical-align: top;\n",
       "    }\n",
       "\n",
       "    .dataframe thead th {\n",
       "        text-align: right;\n",
       "    }\n",
       "</style>\n",
       "<table border=\"1\" class=\"dataframe\">\n",
       "  <thead>\n",
       "    <tr style=\"text-align: right;\">\n",
       "      <th></th>\n",
       "      <th>pickup_datetime</th>\n",
       "      <th>pickup_longitude</th>\n",
       "      <th>pickup_latitude</th>\n",
       "      <th>dropoff_longitude</th>\n",
       "      <th>dropoff_latitude</th>\n",
       "      <th>passenger_count</th>\n",
       "    </tr>\n",
       "  </thead>\n",
       "  <tbody>\n",
       "    <tr>\n",
       "      <th>0</th>\n",
       "      <td>2015-01-27 13:08:24 UTC</td>\n",
       "      <td>-73.973320</td>\n",
       "      <td>40.763805</td>\n",
       "      <td>-73.981430</td>\n",
       "      <td>40.743835</td>\n",
       "      <td>1</td>\n",
       "    </tr>\n",
       "    <tr>\n",
       "      <th>1</th>\n",
       "      <td>2015-01-27 13:08:24 UTC</td>\n",
       "      <td>-73.986862</td>\n",
       "      <td>40.719383</td>\n",
       "      <td>-73.998886</td>\n",
       "      <td>40.739201</td>\n",
       "      <td>1</td>\n",
       "    </tr>\n",
       "    <tr>\n",
       "      <th>2</th>\n",
       "      <td>2011-10-08 11:53:44 UTC</td>\n",
       "      <td>-73.982524</td>\n",
       "      <td>40.751260</td>\n",
       "      <td>-73.979654</td>\n",
       "      <td>40.746139</td>\n",
       "      <td>1</td>\n",
       "    </tr>\n",
       "    <tr>\n",
       "      <th>3</th>\n",
       "      <td>2012-12-01 21:12:12 UTC</td>\n",
       "      <td>-73.981160</td>\n",
       "      <td>40.767807</td>\n",
       "      <td>-73.990448</td>\n",
       "      <td>40.751635</td>\n",
       "      <td>1</td>\n",
       "    </tr>\n",
       "    <tr>\n",
       "      <th>4</th>\n",
       "      <td>2012-12-01 21:12:12 UTC</td>\n",
       "      <td>-73.966046</td>\n",
       "      <td>40.789775</td>\n",
       "      <td>-73.988565</td>\n",
       "      <td>40.744427</td>\n",
       "      <td>1</td>\n",
       "    </tr>\n",
       "    <tr>\n",
       "      <th>...</th>\n",
       "      <td>...</td>\n",
       "      <td>...</td>\n",
       "      <td>...</td>\n",
       "      <td>...</td>\n",
       "      <td>...</td>\n",
       "      <td>...</td>\n",
       "    </tr>\n",
       "    <tr>\n",
       "      <th>9909</th>\n",
       "      <td>2015-05-10 12:37:51 UTC</td>\n",
       "      <td>-73.968124</td>\n",
       "      <td>40.796997</td>\n",
       "      <td>-73.955643</td>\n",
       "      <td>40.780388</td>\n",
       "      <td>6</td>\n",
       "    </tr>\n",
       "    <tr>\n",
       "      <th>9910</th>\n",
       "      <td>2015-01-12 17:05:51 UTC</td>\n",
       "      <td>-73.945511</td>\n",
       "      <td>40.803600</td>\n",
       "      <td>-73.960213</td>\n",
       "      <td>40.776371</td>\n",
       "      <td>6</td>\n",
       "    </tr>\n",
       "    <tr>\n",
       "      <th>9911</th>\n",
       "      <td>2015-04-19 20:44:15 UTC</td>\n",
       "      <td>-73.991600</td>\n",
       "      <td>40.726608</td>\n",
       "      <td>-73.789742</td>\n",
       "      <td>40.647011</td>\n",
       "      <td>6</td>\n",
       "    </tr>\n",
       "    <tr>\n",
       "      <th>9912</th>\n",
       "      <td>2015-01-31 01:05:19 UTC</td>\n",
       "      <td>-73.985573</td>\n",
       "      <td>40.735432</td>\n",
       "      <td>-73.939178</td>\n",
       "      <td>40.801731</td>\n",
       "      <td>6</td>\n",
       "    </tr>\n",
       "    <tr>\n",
       "      <th>9913</th>\n",
       "      <td>2015-01-18 14:06:23 UTC</td>\n",
       "      <td>-73.988022</td>\n",
       "      <td>40.754070</td>\n",
       "      <td>-74.000282</td>\n",
       "      <td>40.759220</td>\n",
       "      <td>6</td>\n",
       "    </tr>\n",
       "  </tbody>\n",
       "</table>\n",
       "<p>9914 rows × 6 columns</p>\n",
       "</div>"
      ],
      "text/plain": [
       "              pickup_datetime  pickup_longitude  pickup_latitude  \\\n",
       "0     2015-01-27 13:08:24 UTC        -73.973320        40.763805   \n",
       "1     2015-01-27 13:08:24 UTC        -73.986862        40.719383   \n",
       "2     2011-10-08 11:53:44 UTC        -73.982524        40.751260   \n",
       "3     2012-12-01 21:12:12 UTC        -73.981160        40.767807   \n",
       "4     2012-12-01 21:12:12 UTC        -73.966046        40.789775   \n",
       "...                       ...               ...              ...   \n",
       "9909  2015-05-10 12:37:51 UTC        -73.968124        40.796997   \n",
       "9910  2015-01-12 17:05:51 UTC        -73.945511        40.803600   \n",
       "9911  2015-04-19 20:44:15 UTC        -73.991600        40.726608   \n",
       "9912  2015-01-31 01:05:19 UTC        -73.985573        40.735432   \n",
       "9913  2015-01-18 14:06:23 UTC        -73.988022        40.754070   \n",
       "\n",
       "      dropoff_longitude  dropoff_latitude  passenger_count  \n",
       "0            -73.981430         40.743835                1  \n",
       "1            -73.998886         40.739201                1  \n",
       "2            -73.979654         40.746139                1  \n",
       "3            -73.990448         40.751635                1  \n",
       "4            -73.988565         40.744427                1  \n",
       "...                 ...               ...              ...  \n",
       "9909         -73.955643         40.780388                6  \n",
       "9910         -73.960213         40.776371                6  \n",
       "9911         -73.789742         40.647011                6  \n",
       "9912         -73.939178         40.801731                6  \n",
       "9913         -74.000282         40.759220                6  \n",
       "\n",
       "[9914 rows x 6 columns]"
      ]
     },
     "execution_count": 211,
     "metadata": {},
     "output_type": "execute_result"
    }
   ],
   "source": [
    "test"
   ]
  },
  {
   "cell_type": "markdown",
   "id": "b1b49758-82b7-4300-ab51-c5f8ee0910a0",
   "metadata": {},
   "source": [
    "##Understanding the dataset\n"
   ]
  },
  {
   "cell_type": "code",
   "execution_count": 214,
   "id": "5772f799-80f4-46c0-98f7-b911e07b8dbb",
   "metadata": {},
   "outputs": [
    {
     "data": {
      "text/html": [
       "<div>\n",
       "<style scoped>\n",
       "    .dataframe tbody tr th:only-of-type {\n",
       "        vertical-align: middle;\n",
       "    }\n",
       "\n",
       "    .dataframe tbody tr th {\n",
       "        vertical-align: top;\n",
       "    }\n",
       "\n",
       "    .dataframe thead th {\n",
       "        text-align: right;\n",
       "    }\n",
       "</style>\n",
       "<table border=\"1\" class=\"dataframe\">\n",
       "  <thead>\n",
       "    <tr style=\"text-align: right;\">\n",
       "      <th></th>\n",
       "      <th>fare_amount</th>\n",
       "      <th>pickup_datetime</th>\n",
       "      <th>pickup_longitude</th>\n",
       "      <th>pickup_latitude</th>\n",
       "      <th>dropoff_longitude</th>\n",
       "      <th>dropoff_latitude</th>\n",
       "      <th>passenger_count</th>\n",
       "    </tr>\n",
       "  </thead>\n",
       "  <tbody>\n",
       "    <tr>\n",
       "      <th>0</th>\n",
       "      <td>4.5</td>\n",
       "      <td>2009-06-15 17:26:21 UTC</td>\n",
       "      <td>-73.844311</td>\n",
       "      <td>40.721319</td>\n",
       "      <td>-73.841610</td>\n",
       "      <td>40.712278</td>\n",
       "      <td>1.0</td>\n",
       "    </tr>\n",
       "    <tr>\n",
       "      <th>1</th>\n",
       "      <td>16.9</td>\n",
       "      <td>2010-01-05 16:52:16 UTC</td>\n",
       "      <td>-74.016048</td>\n",
       "      <td>40.711303</td>\n",
       "      <td>-73.979268</td>\n",
       "      <td>40.782004</td>\n",
       "      <td>1.0</td>\n",
       "    </tr>\n",
       "    <tr>\n",
       "      <th>2</th>\n",
       "      <td>5.7</td>\n",
       "      <td>2011-08-18 00:35:00 UTC</td>\n",
       "      <td>-73.982738</td>\n",
       "      <td>40.761270</td>\n",
       "      <td>-73.991242</td>\n",
       "      <td>40.750562</td>\n",
       "      <td>2.0</td>\n",
       "    </tr>\n",
       "    <tr>\n",
       "      <th>3</th>\n",
       "      <td>7.7</td>\n",
       "      <td>2012-04-21 04:30:42 UTC</td>\n",
       "      <td>-73.987130</td>\n",
       "      <td>40.733143</td>\n",
       "      <td>-73.991567</td>\n",
       "      <td>40.758092</td>\n",
       "      <td>1.0</td>\n",
       "    </tr>\n",
       "    <tr>\n",
       "      <th>4</th>\n",
       "      <td>5.3</td>\n",
       "      <td>2010-03-09 07:51:00 UTC</td>\n",
       "      <td>-73.968095</td>\n",
       "      <td>40.768008</td>\n",
       "      <td>-73.956655</td>\n",
       "      <td>40.783762</td>\n",
       "      <td>1.0</td>\n",
       "    </tr>\n",
       "  </tbody>\n",
       "</table>\n",
       "</div>"
      ],
      "text/plain": [
       "  fare_amount          pickup_datetime  pickup_longitude  pickup_latitude  \\\n",
       "0         4.5  2009-06-15 17:26:21 UTC        -73.844311        40.721319   \n",
       "1        16.9  2010-01-05 16:52:16 UTC        -74.016048        40.711303   \n",
       "2         5.7  2011-08-18 00:35:00 UTC        -73.982738        40.761270   \n",
       "3         7.7  2012-04-21 04:30:42 UTC        -73.987130        40.733143   \n",
       "4         5.3  2010-03-09 07:51:00 UTC        -73.968095        40.768008   \n",
       "\n",
       "   dropoff_longitude  dropoff_latitude  passenger_count  \n",
       "0         -73.841610         40.712278              1.0  \n",
       "1         -73.979268         40.782004              1.0  \n",
       "2         -73.991242         40.750562              2.0  \n",
       "3         -73.991567         40.758092              1.0  \n",
       "4         -73.956655         40.783762              1.0  "
      ]
     },
     "execution_count": 214,
     "metadata": {},
     "output_type": "execute_result"
    }
   ],
   "source": [
    "train.head()"
   ]
  },
  {
   "cell_type": "code",
   "execution_count": 216,
   "id": "a5ed0d21-0a64-4c4f-a4d5-7101ebc55401",
   "metadata": {},
   "outputs": [
    {
     "data": {
      "text/html": [
       "<div>\n",
       "<style scoped>\n",
       "    .dataframe tbody tr th:only-of-type {\n",
       "        vertical-align: middle;\n",
       "    }\n",
       "\n",
       "    .dataframe tbody tr th {\n",
       "        vertical-align: top;\n",
       "    }\n",
       "\n",
       "    .dataframe thead th {\n",
       "        text-align: right;\n",
       "    }\n",
       "</style>\n",
       "<table border=\"1\" class=\"dataframe\">\n",
       "  <thead>\n",
       "    <tr style=\"text-align: right;\">\n",
       "      <th></th>\n",
       "      <th>fare_amount</th>\n",
       "      <th>pickup_datetime</th>\n",
       "      <th>pickup_longitude</th>\n",
       "      <th>pickup_latitude</th>\n",
       "      <th>dropoff_longitude</th>\n",
       "      <th>dropoff_latitude</th>\n",
       "      <th>passenger_count</th>\n",
       "    </tr>\n",
       "  </thead>\n",
       "  <tbody>\n",
       "    <tr>\n",
       "      <th>16062</th>\n",
       "      <td>6.5</td>\n",
       "      <td>2014-12-12 07:41:00 UTC</td>\n",
       "      <td>-74.008820</td>\n",
       "      <td>40.718757</td>\n",
       "      <td>-73.998865</td>\n",
       "      <td>40.719987</td>\n",
       "      <td>1.0</td>\n",
       "    </tr>\n",
       "    <tr>\n",
       "      <th>16063</th>\n",
       "      <td>16.1</td>\n",
       "      <td>2009-07-13 07:58:00 UTC</td>\n",
       "      <td>-73.981310</td>\n",
       "      <td>40.781695</td>\n",
       "      <td>-74.014392</td>\n",
       "      <td>40.715527</td>\n",
       "      <td>2.0</td>\n",
       "    </tr>\n",
       "    <tr>\n",
       "      <th>16064</th>\n",
       "      <td>8.5</td>\n",
       "      <td>2009-11-11 11:19:07 UTC</td>\n",
       "      <td>-73.972507</td>\n",
       "      <td>40.753417</td>\n",
       "      <td>-73.979577</td>\n",
       "      <td>40.765495</td>\n",
       "      <td>1.0</td>\n",
       "    </tr>\n",
       "    <tr>\n",
       "      <th>16065</th>\n",
       "      <td>8.1</td>\n",
       "      <td>2010-05-11 23:53:00 UTC</td>\n",
       "      <td>-73.957027</td>\n",
       "      <td>40.765945</td>\n",
       "      <td>-73.981983</td>\n",
       "      <td>40.779560</td>\n",
       "      <td>1.0</td>\n",
       "    </tr>\n",
       "    <tr>\n",
       "      <th>16066</th>\n",
       "      <td>8.5</td>\n",
       "      <td>2011-12-14 06:24:33 UTC</td>\n",
       "      <td>-74.002111</td>\n",
       "      <td>40.729755</td>\n",
       "      <td>-73.983877</td>\n",
       "      <td>40.761975</td>\n",
       "      <td>NaN</td>\n",
       "    </tr>\n",
       "  </tbody>\n",
       "</table>\n",
       "</div>"
      ],
      "text/plain": [
       "      fare_amount          pickup_datetime  pickup_longitude  pickup_latitude  \\\n",
       "16062         6.5  2014-12-12 07:41:00 UTC        -74.008820        40.718757   \n",
       "16063        16.1  2009-07-13 07:58:00 UTC        -73.981310        40.781695   \n",
       "16064         8.5  2009-11-11 11:19:07 UTC        -73.972507        40.753417   \n",
       "16065         8.1  2010-05-11 23:53:00 UTC        -73.957027        40.765945   \n",
       "16066         8.5  2011-12-14 06:24:33 UTC        -74.002111        40.729755   \n",
       "\n",
       "       dropoff_longitude  dropoff_latitude  passenger_count  \n",
       "16062         -73.998865         40.719987              1.0  \n",
       "16063         -74.014392         40.715527              2.0  \n",
       "16064         -73.979577         40.765495              1.0  \n",
       "16065         -73.981983         40.779560              1.0  \n",
       "16066         -73.983877         40.761975              NaN  "
      ]
     },
     "execution_count": 216,
     "metadata": {},
     "output_type": "execute_result"
    }
   ],
   "source": [
    "train.tail()"
   ]
  },
  {
   "cell_type": "code",
   "execution_count": 218,
   "id": "0c261584-9368-47e9-bac8-520867ac4c8b",
   "metadata": {},
   "outputs": [
    {
     "data": {
      "text/html": [
       "<div>\n",
       "<style scoped>\n",
       "    .dataframe tbody tr th:only-of-type {\n",
       "        vertical-align: middle;\n",
       "    }\n",
       "\n",
       "    .dataframe tbody tr th {\n",
       "        vertical-align: top;\n",
       "    }\n",
       "\n",
       "    .dataframe thead th {\n",
       "        text-align: right;\n",
       "    }\n",
       "</style>\n",
       "<table border=\"1\" class=\"dataframe\">\n",
       "  <thead>\n",
       "    <tr style=\"text-align: right;\">\n",
       "      <th></th>\n",
       "      <th>pickup_datetime</th>\n",
       "      <th>pickup_longitude</th>\n",
       "      <th>pickup_latitude</th>\n",
       "      <th>dropoff_longitude</th>\n",
       "      <th>dropoff_latitude</th>\n",
       "      <th>passenger_count</th>\n",
       "    </tr>\n",
       "  </thead>\n",
       "  <tbody>\n",
       "    <tr>\n",
       "      <th>0</th>\n",
       "      <td>2015-01-27 13:08:24 UTC</td>\n",
       "      <td>-73.973320</td>\n",
       "      <td>40.763805</td>\n",
       "      <td>-73.981430</td>\n",
       "      <td>40.743835</td>\n",
       "      <td>1</td>\n",
       "    </tr>\n",
       "    <tr>\n",
       "      <th>1</th>\n",
       "      <td>2015-01-27 13:08:24 UTC</td>\n",
       "      <td>-73.986862</td>\n",
       "      <td>40.719383</td>\n",
       "      <td>-73.998886</td>\n",
       "      <td>40.739201</td>\n",
       "      <td>1</td>\n",
       "    </tr>\n",
       "    <tr>\n",
       "      <th>2</th>\n",
       "      <td>2011-10-08 11:53:44 UTC</td>\n",
       "      <td>-73.982524</td>\n",
       "      <td>40.751260</td>\n",
       "      <td>-73.979654</td>\n",
       "      <td>40.746139</td>\n",
       "      <td>1</td>\n",
       "    </tr>\n",
       "    <tr>\n",
       "      <th>3</th>\n",
       "      <td>2012-12-01 21:12:12 UTC</td>\n",
       "      <td>-73.981160</td>\n",
       "      <td>40.767807</td>\n",
       "      <td>-73.990448</td>\n",
       "      <td>40.751635</td>\n",
       "      <td>1</td>\n",
       "    </tr>\n",
       "    <tr>\n",
       "      <th>4</th>\n",
       "      <td>2012-12-01 21:12:12 UTC</td>\n",
       "      <td>-73.966046</td>\n",
       "      <td>40.789775</td>\n",
       "      <td>-73.988565</td>\n",
       "      <td>40.744427</td>\n",
       "      <td>1</td>\n",
       "    </tr>\n",
       "  </tbody>\n",
       "</table>\n",
       "</div>"
      ],
      "text/plain": [
       "           pickup_datetime  pickup_longitude  pickup_latitude  \\\n",
       "0  2015-01-27 13:08:24 UTC        -73.973320        40.763805   \n",
       "1  2015-01-27 13:08:24 UTC        -73.986862        40.719383   \n",
       "2  2011-10-08 11:53:44 UTC        -73.982524        40.751260   \n",
       "3  2012-12-01 21:12:12 UTC        -73.981160        40.767807   \n",
       "4  2012-12-01 21:12:12 UTC        -73.966046        40.789775   \n",
       "\n",
       "   dropoff_longitude  dropoff_latitude  passenger_count  \n",
       "0         -73.981430         40.743835                1  \n",
       "1         -73.998886         40.739201                1  \n",
       "2         -73.979654         40.746139                1  \n",
       "3         -73.990448         40.751635                1  \n",
       "4         -73.988565         40.744427                1  "
      ]
     },
     "execution_count": 218,
     "metadata": {},
     "output_type": "execute_result"
    }
   ],
   "source": [
    "test.head()"
   ]
  },
  {
   "cell_type": "code",
   "execution_count": 220,
   "id": "b07f1575-7c94-48c0-9220-f63078d5f0ae",
   "metadata": {},
   "outputs": [
    {
     "data": {
      "text/plain": [
       "(16067, 7)"
      ]
     },
     "execution_count": 220,
     "metadata": {},
     "output_type": "execute_result"
    }
   ],
   "source": [
    "train.shape"
   ]
  },
  {
   "cell_type": "code",
   "execution_count": 222,
   "id": "acca6989-60b1-4621-b46c-c3e26d3399b9",
   "metadata": {},
   "outputs": [
    {
     "data": {
      "text/plain": [
       "(9914, 6)"
      ]
     },
     "execution_count": 222,
     "metadata": {},
     "output_type": "execute_result"
    }
   ],
   "source": [
    "test.shape"
   ]
  },
  {
   "cell_type": "code",
   "execution_count": 224,
   "id": "6d09fa5a-6222-4f1b-bc27-b6136e67f1f4",
   "metadata": {},
   "outputs": [
    {
     "data": {
      "text/plain": [
       "fare_amount           object\n",
       "pickup_datetime       object\n",
       "pickup_longitude     float64\n",
       "pickup_latitude      float64\n",
       "dropoff_longitude    float64\n",
       "dropoff_latitude     float64\n",
       "passenger_count      float64\n",
       "dtype: object"
      ]
     },
     "execution_count": 224,
     "metadata": {},
     "output_type": "execute_result"
    }
   ],
   "source": [
    "train.dtypes  ##cheacking the datatype of the train dataset"
   ]
  },
  {
   "cell_type": "code",
   "execution_count": 226,
   "id": "ddccae81-1054-47a2-8225-94442a0a5a58",
   "metadata": {},
   "outputs": [
    {
     "data": {
      "text/plain": [
       "pickup_datetime       object\n",
       "pickup_longitude     float64\n",
       "pickup_latitude      float64\n",
       "dropoff_longitude    float64\n",
       "dropoff_latitude     float64\n",
       "passenger_count        int64\n",
       "dtype: object"
      ]
     },
     "execution_count": 226,
     "metadata": {},
     "output_type": "execute_result"
    }
   ],
   "source": [
    "test.dtypes  ##cheacking the datatype of the test dataset"
   ]
  },
  {
   "cell_type": "code",
   "execution_count": 228,
   "id": "c94e6852-3702-4233-b5c6-d57cb73ae828",
   "metadata": {},
   "outputs": [
    {
     "data": {
      "text/html": [
       "<div>\n",
       "<style scoped>\n",
       "    .dataframe tbody tr th:only-of-type {\n",
       "        vertical-align: middle;\n",
       "    }\n",
       "\n",
       "    .dataframe tbody tr th {\n",
       "        vertical-align: top;\n",
       "    }\n",
       "\n",
       "    .dataframe thead th {\n",
       "        text-align: right;\n",
       "    }\n",
       "</style>\n",
       "<table border=\"1\" class=\"dataframe\">\n",
       "  <thead>\n",
       "    <tr style=\"text-align: right;\">\n",
       "      <th></th>\n",
       "      <th>pickup_longitude</th>\n",
       "      <th>pickup_latitude</th>\n",
       "      <th>dropoff_longitude</th>\n",
       "      <th>dropoff_latitude</th>\n",
       "      <th>passenger_count</th>\n",
       "    </tr>\n",
       "  </thead>\n",
       "  <tbody>\n",
       "    <tr>\n",
       "      <th>count</th>\n",
       "      <td>16067.000000</td>\n",
       "      <td>16067.000000</td>\n",
       "      <td>16067.000000</td>\n",
       "      <td>16067.000000</td>\n",
       "      <td>16012.000000</td>\n",
       "    </tr>\n",
       "    <tr>\n",
       "      <th>mean</th>\n",
       "      <td>-72.462787</td>\n",
       "      <td>39.914725</td>\n",
       "      <td>-72.462328</td>\n",
       "      <td>39.897906</td>\n",
       "      <td>2.625070</td>\n",
       "    </tr>\n",
       "    <tr>\n",
       "      <th>std</th>\n",
       "      <td>10.578384</td>\n",
       "      <td>6.826587</td>\n",
       "      <td>10.575062</td>\n",
       "      <td>6.187087</td>\n",
       "      <td>60.844122</td>\n",
       "    </tr>\n",
       "    <tr>\n",
       "      <th>min</th>\n",
       "      <td>-74.438233</td>\n",
       "      <td>-74.006893</td>\n",
       "      <td>-74.429332</td>\n",
       "      <td>-74.006377</td>\n",
       "      <td>0.000000</td>\n",
       "    </tr>\n",
       "    <tr>\n",
       "      <th>25%</th>\n",
       "      <td>-73.992156</td>\n",
       "      <td>40.734927</td>\n",
       "      <td>-73.991182</td>\n",
       "      <td>40.734651</td>\n",
       "      <td>1.000000</td>\n",
       "    </tr>\n",
       "    <tr>\n",
       "      <th>50%</th>\n",
       "      <td>-73.981698</td>\n",
       "      <td>40.752603</td>\n",
       "      <td>-73.980172</td>\n",
       "      <td>40.753567</td>\n",
       "      <td>1.000000</td>\n",
       "    </tr>\n",
       "    <tr>\n",
       "      <th>75%</th>\n",
       "      <td>-73.966838</td>\n",
       "      <td>40.767381</td>\n",
       "      <td>-73.963642</td>\n",
       "      <td>40.768014</td>\n",
       "      <td>2.000000</td>\n",
       "    </tr>\n",
       "    <tr>\n",
       "      <th>max</th>\n",
       "      <td>40.766125</td>\n",
       "      <td>401.083332</td>\n",
       "      <td>40.802437</td>\n",
       "      <td>41.366138</td>\n",
       "      <td>5345.000000</td>\n",
       "    </tr>\n",
       "  </tbody>\n",
       "</table>\n",
       "</div>"
      ],
      "text/plain": [
       "       pickup_longitude  pickup_latitude  dropoff_longitude  dropoff_latitude  \\\n",
       "count      16067.000000     16067.000000       16067.000000      16067.000000   \n",
       "mean         -72.462787        39.914725         -72.462328         39.897906   \n",
       "std           10.578384         6.826587          10.575062          6.187087   \n",
       "min          -74.438233       -74.006893         -74.429332        -74.006377   \n",
       "25%          -73.992156        40.734927         -73.991182         40.734651   \n",
       "50%          -73.981698        40.752603         -73.980172         40.753567   \n",
       "75%          -73.966838        40.767381         -73.963642         40.768014   \n",
       "max           40.766125       401.083332          40.802437         41.366138   \n",
       "\n",
       "       passenger_count  \n",
       "count     16012.000000  \n",
       "mean          2.625070  \n",
       "std          60.844122  \n",
       "min           0.000000  \n",
       "25%           1.000000  \n",
       "50%           1.000000  \n",
       "75%           2.000000  \n",
       "max        5345.000000  "
      ]
     },
     "execution_count": 228,
     "metadata": {},
     "output_type": "execute_result"
    }
   ],
   "source": [
    "train.describe()"
   ]
  },
  {
   "cell_type": "code",
   "execution_count": 230,
   "id": "4ba289a4-23dd-4f92-984f-8e3884ac0665",
   "metadata": {},
   "outputs": [
    {
     "data": {
      "text/html": [
       "<div>\n",
       "<style scoped>\n",
       "    .dataframe tbody tr th:only-of-type {\n",
       "        vertical-align: middle;\n",
       "    }\n",
       "\n",
       "    .dataframe tbody tr th {\n",
       "        vertical-align: top;\n",
       "    }\n",
       "\n",
       "    .dataframe thead th {\n",
       "        text-align: right;\n",
       "    }\n",
       "</style>\n",
       "<table border=\"1\" class=\"dataframe\">\n",
       "  <thead>\n",
       "    <tr style=\"text-align: right;\">\n",
       "      <th></th>\n",
       "      <th>pickup_longitude</th>\n",
       "      <th>pickup_latitude</th>\n",
       "      <th>dropoff_longitude</th>\n",
       "      <th>dropoff_latitude</th>\n",
       "      <th>passenger_count</th>\n",
       "    </tr>\n",
       "  </thead>\n",
       "  <tbody>\n",
       "    <tr>\n",
       "      <th>count</th>\n",
       "      <td>9914.000000</td>\n",
       "      <td>9914.000000</td>\n",
       "      <td>9914.000000</td>\n",
       "      <td>9914.000000</td>\n",
       "      <td>9914.000000</td>\n",
       "    </tr>\n",
       "    <tr>\n",
       "      <th>mean</th>\n",
       "      <td>-73.974722</td>\n",
       "      <td>40.751041</td>\n",
       "      <td>-73.973657</td>\n",
       "      <td>40.751743</td>\n",
       "      <td>1.671273</td>\n",
       "    </tr>\n",
       "    <tr>\n",
       "      <th>std</th>\n",
       "      <td>0.042774</td>\n",
       "      <td>0.033541</td>\n",
       "      <td>0.039072</td>\n",
       "      <td>0.035435</td>\n",
       "      <td>1.278747</td>\n",
       "    </tr>\n",
       "    <tr>\n",
       "      <th>min</th>\n",
       "      <td>-74.252193</td>\n",
       "      <td>40.573143</td>\n",
       "      <td>-74.263242</td>\n",
       "      <td>40.568973</td>\n",
       "      <td>1.000000</td>\n",
       "    </tr>\n",
       "    <tr>\n",
       "      <th>25%</th>\n",
       "      <td>-73.992501</td>\n",
       "      <td>40.736125</td>\n",
       "      <td>-73.991247</td>\n",
       "      <td>40.735254</td>\n",
       "      <td>1.000000</td>\n",
       "    </tr>\n",
       "    <tr>\n",
       "      <th>50%</th>\n",
       "      <td>-73.982326</td>\n",
       "      <td>40.753051</td>\n",
       "      <td>-73.980015</td>\n",
       "      <td>40.754065</td>\n",
       "      <td>1.000000</td>\n",
       "    </tr>\n",
       "    <tr>\n",
       "      <th>75%</th>\n",
       "      <td>-73.968013</td>\n",
       "      <td>40.767113</td>\n",
       "      <td>-73.964059</td>\n",
       "      <td>40.768757</td>\n",
       "      <td>2.000000</td>\n",
       "    </tr>\n",
       "    <tr>\n",
       "      <th>max</th>\n",
       "      <td>-72.986532</td>\n",
       "      <td>41.709555</td>\n",
       "      <td>-72.990963</td>\n",
       "      <td>41.696683</td>\n",
       "      <td>6.000000</td>\n",
       "    </tr>\n",
       "  </tbody>\n",
       "</table>\n",
       "</div>"
      ],
      "text/plain": [
       "       pickup_longitude  pickup_latitude  dropoff_longitude  dropoff_latitude  \\\n",
       "count       9914.000000      9914.000000        9914.000000       9914.000000   \n",
       "mean         -73.974722        40.751041         -73.973657         40.751743   \n",
       "std            0.042774         0.033541           0.039072          0.035435   \n",
       "min          -74.252193        40.573143         -74.263242         40.568973   \n",
       "25%          -73.992501        40.736125         -73.991247         40.735254   \n",
       "50%          -73.982326        40.753051         -73.980015         40.754065   \n",
       "75%          -73.968013        40.767113         -73.964059         40.768757   \n",
       "max          -72.986532        41.709555         -72.990963         41.696683   \n",
       "\n",
       "       passenger_count  \n",
       "count      9914.000000  \n",
       "mean          1.671273  \n",
       "std           1.278747  \n",
       "min           1.000000  \n",
       "25%           1.000000  \n",
       "50%           1.000000  \n",
       "75%           2.000000  \n",
       "max           6.000000  "
      ]
     },
     "execution_count": 230,
     "metadata": {},
     "output_type": "execute_result"
    }
   ],
   "source": [
    "test.describe()"
   ]
  },
  {
   "cell_type": "markdown",
   "id": "f46fc9c9-20d0-486b-bcad-1bab3ad9531d",
   "metadata": {},
   "source": [
    "## Data Preprocessing"
   ]
  },
  {
   "cell_type": "markdown",
   "id": "549f7b2f-2bab-4d03-b929-fac2236cb8ad",
   "metadata": {},
   "source": [
    " Data exploring and missing value analysis"
   ]
  },
  {
   "cell_type": "code",
   "execution_count": 234,
   "id": "f207e2a8-4f6b-4358-bf22-f772645fe90e",
   "metadata": {},
   "outputs": [],
   "source": [
    "#from object to numeric\n",
    "\n",
    "train[\"fare_amount\"] = pd.to_numeric(train[\"fare_amount\"], errors = \"coerce\") #It will convert all non-numeric values with NaN"
   ]
  },
  {
   "cell_type": "code",
   "execution_count": 236,
   "id": "d1af8e78-71c3-41f2-abd1-7ff1c35e9cdc",
   "metadata": {},
   "outputs": [
    {
     "data": {
      "text/plain": [
       "fare_amount          float64\n",
       "pickup_datetime       object\n",
       "pickup_longitude     float64\n",
       "pickup_latitude      float64\n",
       "dropoff_longitude    float64\n",
       "dropoff_latitude     float64\n",
       "passenger_count      float64\n",
       "dtype: object"
      ]
     },
     "execution_count": 236,
     "metadata": {},
     "output_type": "execute_result"
    }
   ],
   "source": [
    "train.dtypes"
   ]
  },
  {
   "cell_type": "code",
   "execution_count": 238,
   "id": "a04a003c-7e38-4c6e-a89d-dfc6b99e3716",
   "metadata": {},
   "outputs": [
    {
     "data": {
      "text/html": [
       "<div>\n",
       "<style scoped>\n",
       "    .dataframe tbody tr th:only-of-type {\n",
       "        vertical-align: middle;\n",
       "    }\n",
       "\n",
       "    .dataframe tbody tr th {\n",
       "        vertical-align: top;\n",
       "    }\n",
       "\n",
       "    .dataframe thead th {\n",
       "        text-align: right;\n",
       "    }\n",
       "</style>\n",
       "<table border=\"1\" class=\"dataframe\">\n",
       "  <thead>\n",
       "    <tr style=\"text-align: right;\">\n",
       "      <th></th>\n",
       "      <th>fare_amount</th>\n",
       "      <th>pickup_datetime</th>\n",
       "      <th>pickup_longitude</th>\n",
       "      <th>pickup_latitude</th>\n",
       "      <th>dropoff_longitude</th>\n",
       "      <th>dropoff_latitude</th>\n",
       "      <th>passenger_count</th>\n",
       "    </tr>\n",
       "  </thead>\n",
       "  <tbody>\n",
       "    <tr>\n",
       "      <th>0</th>\n",
       "      <td>4.5</td>\n",
       "      <td>2009-06-15 17:26:21 UTC</td>\n",
       "      <td>-73.844311</td>\n",
       "      <td>40.721319</td>\n",
       "      <td>-73.841610</td>\n",
       "      <td>40.712278</td>\n",
       "      <td>1.0</td>\n",
       "    </tr>\n",
       "    <tr>\n",
       "      <th>1</th>\n",
       "      <td>16.9</td>\n",
       "      <td>2010-01-05 16:52:16 UTC</td>\n",
       "      <td>-74.016048</td>\n",
       "      <td>40.711303</td>\n",
       "      <td>-73.979268</td>\n",
       "      <td>40.782004</td>\n",
       "      <td>1.0</td>\n",
       "    </tr>\n",
       "    <tr>\n",
       "      <th>2</th>\n",
       "      <td>5.7</td>\n",
       "      <td>2011-08-18 00:35:00 UTC</td>\n",
       "      <td>-73.982738</td>\n",
       "      <td>40.761270</td>\n",
       "      <td>-73.991242</td>\n",
       "      <td>40.750562</td>\n",
       "      <td>2.0</td>\n",
       "    </tr>\n",
       "    <tr>\n",
       "      <th>3</th>\n",
       "      <td>7.7</td>\n",
       "      <td>2012-04-21 04:30:42 UTC</td>\n",
       "      <td>-73.987130</td>\n",
       "      <td>40.733143</td>\n",
       "      <td>-73.991567</td>\n",
       "      <td>40.758092</td>\n",
       "      <td>1.0</td>\n",
       "    </tr>\n",
       "    <tr>\n",
       "      <th>4</th>\n",
       "      <td>5.3</td>\n",
       "      <td>2010-03-09 07:51:00 UTC</td>\n",
       "      <td>-73.968095</td>\n",
       "      <td>40.768008</td>\n",
       "      <td>-73.956655</td>\n",
       "      <td>40.783762</td>\n",
       "      <td>1.0</td>\n",
       "    </tr>\n",
       "    <tr>\n",
       "      <th>...</th>\n",
       "      <td>...</td>\n",
       "      <td>...</td>\n",
       "      <td>...</td>\n",
       "      <td>...</td>\n",
       "      <td>...</td>\n",
       "      <td>...</td>\n",
       "      <td>...</td>\n",
       "    </tr>\n",
       "    <tr>\n",
       "      <th>16062</th>\n",
       "      <td>6.5</td>\n",
       "      <td>2014-12-12 07:41:00 UTC</td>\n",
       "      <td>-74.008820</td>\n",
       "      <td>40.718757</td>\n",
       "      <td>-73.998865</td>\n",
       "      <td>40.719987</td>\n",
       "      <td>1.0</td>\n",
       "    </tr>\n",
       "    <tr>\n",
       "      <th>16063</th>\n",
       "      <td>16.1</td>\n",
       "      <td>2009-07-13 07:58:00 UTC</td>\n",
       "      <td>-73.981310</td>\n",
       "      <td>40.781695</td>\n",
       "      <td>-74.014392</td>\n",
       "      <td>40.715527</td>\n",
       "      <td>2.0</td>\n",
       "    </tr>\n",
       "    <tr>\n",
       "      <th>16064</th>\n",
       "      <td>8.5</td>\n",
       "      <td>2009-11-11 11:19:07 UTC</td>\n",
       "      <td>-73.972507</td>\n",
       "      <td>40.753417</td>\n",
       "      <td>-73.979577</td>\n",
       "      <td>40.765495</td>\n",
       "      <td>1.0</td>\n",
       "    </tr>\n",
       "    <tr>\n",
       "      <th>16065</th>\n",
       "      <td>8.1</td>\n",
       "      <td>2010-05-11 23:53:00 UTC</td>\n",
       "      <td>-73.957027</td>\n",
       "      <td>40.765945</td>\n",
       "      <td>-73.981983</td>\n",
       "      <td>40.779560</td>\n",
       "      <td>1.0</td>\n",
       "    </tr>\n",
       "    <tr>\n",
       "      <th>16066</th>\n",
       "      <td>8.5</td>\n",
       "      <td>2011-12-14 06:24:33 UTC</td>\n",
       "      <td>-74.002111</td>\n",
       "      <td>40.729755</td>\n",
       "      <td>-73.983877</td>\n",
       "      <td>40.761975</td>\n",
       "      <td>NaN</td>\n",
       "    </tr>\n",
       "  </tbody>\n",
       "</table>\n",
       "<p>16066 rows × 7 columns</p>\n",
       "</div>"
      ],
      "text/plain": [
       "       fare_amount          pickup_datetime  pickup_longitude  \\\n",
       "0              4.5  2009-06-15 17:26:21 UTC        -73.844311   \n",
       "1             16.9  2010-01-05 16:52:16 UTC        -74.016048   \n",
       "2              5.7  2011-08-18 00:35:00 UTC        -73.982738   \n",
       "3              7.7  2012-04-21 04:30:42 UTC        -73.987130   \n",
       "4              5.3  2010-03-09 07:51:00 UTC        -73.968095   \n",
       "...            ...                      ...               ...   \n",
       "16062          6.5  2014-12-12 07:41:00 UTC        -74.008820   \n",
       "16063         16.1  2009-07-13 07:58:00 UTC        -73.981310   \n",
       "16064          8.5  2009-11-11 11:19:07 UTC        -73.972507   \n",
       "16065          8.1  2010-05-11 23:53:00 UTC        -73.957027   \n",
       "16066          8.5  2011-12-14 06:24:33 UTC        -74.002111   \n",
       "\n",
       "       pickup_latitude  dropoff_longitude  dropoff_latitude  passenger_count  \n",
       "0            40.721319         -73.841610         40.712278              1.0  \n",
       "1            40.711303         -73.979268         40.782004              1.0  \n",
       "2            40.761270         -73.991242         40.750562              2.0  \n",
       "3            40.733143         -73.991567         40.758092              1.0  \n",
       "4            40.768008         -73.956655         40.783762              1.0  \n",
       "...                ...                ...               ...              ...  \n",
       "16062        40.718757         -73.998865         40.719987              1.0  \n",
       "16063        40.781695         -74.014392         40.715527              2.0  \n",
       "16064        40.753417         -73.979577         40.765495              1.0  \n",
       "16065        40.765945         -73.981983         40.779560              1.0  \n",
       "16066        40.729755         -73.983877         40.761975              NaN  \n",
       "\n",
       "[16066 rows x 7 columns]"
      ]
     },
     "execution_count": 238,
     "metadata": {},
     "output_type": "execute_result"
    }
   ],
   "source": [
    "train.dropna(subset=[\"pickup_datetime\"]) #Dropipng NA values in datetime column"
   ]
  },
  {
   "cell_type": "code",
   "execution_count": 240,
   "id": "9526bf12-d93d-47e8-915e-7c5ded49e6c6",
   "metadata": {},
   "outputs": [],
   "source": [
    "#Convertng pickup_datetime from object to datetime\n",
    "train['pickup_datetime'] =  pd.to_datetime(train['pickup_datetime'], format = '%Y-%m-%d %H:%M:%S UTC')"
   ]
  },
  {
   "cell_type": "code",
   "execution_count": 242,
   "id": "9b1f73d2-81ea-4adf-80ed-3c3a3c241b65",
   "metadata": {},
   "outputs": [],
   "source": [
    "#we will be separating pickup_datetime function into year , month,day\n",
    "\n",
    "train['year']=train['pickup_datetime'].dt.year\n",
    "train['month']=train['pickup_datetime'].dt.month\n",
    "train['Date']=train['pickup_datetime'].dt.day\n",
    "train['Day']=train['pickup_datetime'].dt.dayofweek\n",
    "train['Hour']=train['pickup_datetime'].dt.hour\n",
    "train['Minute']=train['pickup_datetime'].dt.minute"
   ]
  },
  {
   "cell_type": "code",
   "execution_count": 244,
   "id": "c72f5145-c177-4bd2-b4d1-55057239066e",
   "metadata": {},
   "outputs": [
    {
     "data": {
      "text/plain": [
       "fare_amount                 float64\n",
       "pickup_datetime      datetime64[ns]\n",
       "pickup_longitude            float64\n",
       "pickup_latitude             float64\n",
       "dropoff_longitude           float64\n",
       "dropoff_latitude            float64\n",
       "passenger_count             float64\n",
       "year                        float64\n",
       "month                       float64\n",
       "Date                        float64\n",
       "Day                         float64\n",
       "Hour                        float64\n",
       "Minute                      float64\n",
       "dtype: object"
      ]
     },
     "execution_count": 244,
     "metadata": {},
     "output_type": "execute_result"
    }
   ],
   "source": [
    "train.dtypes"
   ]
  },
  {
   "cell_type": "code",
   "execution_count": 246,
   "id": "ea6e7e36-9d5e-48ff-a46f-f71794922de0",
   "metadata": {},
   "outputs": [],
   "source": [
    "test['pickup_datetime'] =  pd.to_datetime(test['pickup_datetime'], format = '%Y-%m-%d %H:%M:%S UTC')"
   ]
  },
  {
   "cell_type": "code",
   "execution_count": 248,
   "id": "8d0a0b12-67f1-4ce3-8d7f-ae7bb376bc4c",
   "metadata": {},
   "outputs": [],
   "source": [
    "#we will be separating pickup_datetime function into year , month,day\n",
    "\n",
    "test['year']=test['pickup_datetime'].dt.year\n",
    "test['month']=test['pickup_datetime'].dt.month\n",
    "test['Date']=test['pickup_datetime'].dt.day\n",
    "test['Day']=test['pickup_datetime'].dt.dayofweek\n",
    "test['Hour']=test['pickup_datetime'].dt.hour\n",
    "test['Minute']=test['pickup_datetime'].dt.minute"
   ]
  },
  {
   "cell_type": "code",
   "execution_count": 250,
   "id": "0de6f2e1-3cf7-4c60-b4eb-c51ddb409bf5",
   "metadata": {},
   "outputs": [
    {
     "data": {
      "text/plain": [
       "pickup_datetime      datetime64[ns]\n",
       "pickup_longitude            float64\n",
       "pickup_latitude             float64\n",
       "dropoff_longitude           float64\n",
       "dropoff_latitude            float64\n",
       "passenger_count               int64\n",
       "year                          int32\n",
       "month                         int32\n",
       "Date                          int32\n",
       "Day                           int32\n",
       "Hour                          int32\n",
       "Minute                        int32\n",
       "dtype: object"
      ]
     },
     "execution_count": 250,
     "metadata": {},
     "output_type": "execute_result"
    }
   ],
   "source": [
    "test.dtypes"
   ]
  },
  {
   "cell_type": "code",
   "execution_count": 252,
   "id": "94ab19ac-da06-4e71-9ad5-8c62df7e9ecb",
   "metadata": {},
   "outputs": [
    {
     "name": "stdout",
     "output_type": "stream",
     "text": [
      "(16066, 13)\n",
      "0\n"
     ]
    }
   ],
   "source": [
    "#removing the missing value rows\n",
    "train=train.drop(train[train['pickup_datetime'].isnull()].index, axis=0)\n",
    "print(train.shape)\n",
    "print(train['pickup_datetime'].isnull().sum())\n"
   ]
  },
  {
   "cell_type": "code",
   "execution_count": 254,
   "id": "706ded91-0fcf-4abc-8593-259e596f56c0",
   "metadata": {},
   "outputs": [
    {
     "data": {
      "text/plain": [
       "count    16011.000000\n",
       "mean         2.625171\n",
       "std         60.846021\n",
       "min          0.000000\n",
       "25%          1.000000\n",
       "50%          1.000000\n",
       "75%          2.000000\n",
       "max       5345.000000\n",
       "Name: passenger_count, dtype: float64"
      ]
     },
     "execution_count": 254,
     "metadata": {},
     "output_type": "execute_result"
    }
   ],
   "source": [
    "train['passenger_count'].describe()"
   ]
  },
  {
   "cell_type": "markdown",
   "id": "fc5099b4-8666-4e20-9623-f415f08400ce",
   "metadata": {},
   "source": [
    "The passenger count 5345 is not possible because the maximum number of possible passenger is SUV is 6"
   ]
  },
  {
   "cell_type": "code",
   "execution_count": 257,
   "id": "2e78a05d-3c8f-48dc-b02f-64727ba5fa90",
   "metadata": {},
   "outputs": [],
   "source": [
    "train=train.drop(train[train[\"passenger_count\"]>6].index, axis=0)"
   ]
  },
  {
   "cell_type": "code",
   "execution_count": 259,
   "id": "d5e163fb-1610-426d-b0dc-af3b869b579f",
   "metadata": {},
   "outputs": [],
   "source": [
    "train=train.drop(train[train[\"passenger_count\"]==0].index, axis=0)"
   ]
  },
  {
   "cell_type": "code",
   "execution_count": 261,
   "id": "fe7d14f9-cd38-4978-a8cb-63c5eccbb67f",
   "metadata": {},
   "outputs": [
    {
     "data": {
      "text/plain": [
       "count    15934.000000\n",
       "mean         1.649581\n",
       "std          1.265943\n",
       "min          0.120000\n",
       "25%          1.000000\n",
       "50%          1.000000\n",
       "75%          2.000000\n",
       "max          6.000000\n",
       "Name: passenger_count, dtype: float64"
      ]
     },
     "execution_count": 261,
     "metadata": {},
     "output_type": "execute_result"
    }
   ],
   "source": [
    "train[\"passenger_count\"].describe()"
   ]
  },
  {
   "cell_type": "code",
   "execution_count": 263,
   "id": "0f55631b-29d8-4812-8763-61c631353fdc",
   "metadata": {},
   "outputs": [
    {
     "data": {
      "text/plain": [
       "8862     0.12\n",
       "0        1.00\n",
       "9790     1.00\n",
       "9791     1.00\n",
       "9792     1.00\n",
       "         ... \n",
       "8076      NaN\n",
       "8139      NaN\n",
       "8259      NaN\n",
       "8306      NaN\n",
       "16066     NaN\n",
       "Name: passenger_count, Length: 15989, dtype: float64"
      ]
     },
     "execution_count": 263,
     "metadata": {},
     "output_type": "execute_result"
    }
   ],
   "source": [
    "train[\"passenger_count\"].sort_values(ascending = True)"
   ]
  },
  {
   "cell_type": "code",
   "execution_count": 265,
   "id": "c338990c-4411-4aa6-8f9d-00ce3fa6e623",
   "metadata": {},
   "outputs": [
    {
     "name": "stdout",
     "output_type": "stream",
     "text": [
      "(15934, 13)\n",
      "0\n"
     ]
    }
   ],
   "source": [
    "#removing passenger_count missing value rows\n",
    "#removing the missing value rows\n",
    "train=train.drop(train[train['passenger_count'].isnull()].index, axis=0)\n",
    "print(train.shape)\n",
    "print(train['passenger_count'].isnull().sum())\n"
   ]
  },
  {
   "cell_type": "code",
   "execution_count": 267,
   "id": "557e5ce3-644f-4617-89c8-fa3c8a2f0db2",
   "metadata": {},
   "outputs": [
    {
     "name": "stdout",
     "output_type": "stream",
     "text": [
      "(15933, 13)\n"
     ]
    }
   ],
   "source": [
    "#There is one value 0.12 present in passenger_count which is not possible hence remove it as well\n",
    "train=train.drop(train[train[\"passenger_count\"]==0.12].index, axis=0)\n",
    "print(train.shape)"
   ]
  },
  {
   "cell_type": "code",
   "execution_count": 269,
   "id": "753bd820-1304-4109-9957-5f93eac9e22e",
   "metadata": {},
   "outputs": [
    {
     "data": {
      "text/plain": [
       "1015    54343.0\n",
       "1072     4343.0\n",
       "607       453.0\n",
       "980       434.0\n",
       "1335      180.0\n",
       "         ...   \n",
       "1712        NaN\n",
       "2412        NaN\n",
       "2458        NaN\n",
       "8178        NaN\n",
       "8226        NaN\n",
       "Name: fare_amount, Length: 15933, dtype: float64"
      ]
     },
     "execution_count": 269,
     "metadata": {},
     "output_type": "execute_result"
    }
   ],
   "source": [
    "#sort the fare_amount in descending order to see if there are any outliers or not\n",
    "train[\"fare_amount\"].sort_values(ascending = False)"
   ]
  },
  {
   "cell_type": "code",
   "execution_count": 271,
   "id": "2bebfae8-6c18-43e4-97cc-9f34d8e8d273",
   "metadata": {},
   "outputs": [
    {
     "data": {
      "text/plain": [
       "Counter({False: 15930, True: 3})"
      ]
     },
     "execution_count": 271,
     "metadata": {},
     "output_type": "execute_result"
    }
   ],
   "source": [
    "#count the number of rows where fare value is<0\n",
    "Counter(train[\"fare_amount\"]<0)"
   ]
  },
  {
   "cell_type": "code",
   "execution_count": 273,
   "id": "215f4570-5c91-4754-9028-c303ff0e5179",
   "metadata": {},
   "outputs": [
    {
     "data": {
      "text/plain": [
       "(15930, 13)"
      ]
     },
     "execution_count": 273,
     "metadata": {},
     "output_type": "execute_result"
    }
   ],
   "source": [
    "#removing the negative values\n",
    "train=train.drop(train[train[\"fare_amount\"]<0].index, axis=0)\n",
    "train.shape"
   ]
  },
  {
   "cell_type": "code",
   "execution_count": 275,
   "id": "20ca72dd-926a-44db-ab97-59c23d5a987e",
   "metadata": {},
   "outputs": [
    {
     "data": {
      "text/plain": [
       "0.0"
      ]
     },
     "execution_count": 275,
     "metadata": {},
     "output_type": "execute_result"
    }
   ],
   "source": [
    "#chescking the min value in fare_amount variable and checking if tere is any negative values\n",
    "train[\"fare_amount\"].min()"
   ]
  },
  {
   "cell_type": "code",
   "execution_count": 277,
   "id": "0185479b-7596-4c3b-a775-ad470dc56f6c",
   "metadata": {},
   "outputs": [
    {
     "data": {
      "text/plain": [
       "(15928, 13)"
      ]
     },
     "execution_count": 277,
     "metadata": {},
     "output_type": "execute_result"
    }
   ],
   "source": [
    "#removing the values closer to zero\n",
    "train=train.drop(train[train[\"fare_amount\"]<1].index, axis=0)\n",
    "train.shape\n",
    "                 "
   ]
  },
  {
   "cell_type": "code",
   "execution_count": 279,
   "id": "fba1dc91-3205-424d-bd51-d2f846d60d63",
   "metadata": {},
   "outputs": [
    {
     "data": {
      "text/plain": [
       "(15926, 13)"
      ]
     },
     "execution_count": 279,
     "metadata": {},
     "output_type": "execute_result"
    }
   ],
   "source": [
    "#removing the outliers in the fare_amount especially top 3 which has huge difference\n",
    "train=train.drop(train[train[\"fare_amount\"]>454].index, axis=0)\n",
    "train.shape"
   ]
  },
  {
   "cell_type": "code",
   "execution_count": 281,
   "id": "129da41f-dabd-4605-a1df-2d86b99fa370",
   "metadata": {},
   "outputs": [
    {
     "name": "stdout",
     "output_type": "stream",
     "text": [
      "(15902, 13)\n",
      "0\n"
     ]
    }
   ],
   "source": [
    "#removing the missing value rows in fare_amount\n",
    "train=train.drop(train[train['fare_amount'].isnull()].index, axis=0)\n",
    "print(train.shape)\n",
    "print(train['fare_amount'].isnull().sum())"
   ]
  },
  {
   "cell_type": "code",
   "execution_count": 283,
   "id": "21fd8f74-5c1e-494d-b88b-9b4191c4f2eb",
   "metadata": {},
   "outputs": [
    {
     "data": {
      "text/plain": [
       "607      453.00\n",
       "980      434.00\n",
       "1335     180.00\n",
       "1483     165.00\n",
       "6630     128.83\n",
       "          ...  \n",
       "8596       2.50\n",
       "7918       2.50\n",
       "8603       2.50\n",
       "15490      2.50\n",
       "1427       1.14\n",
       "Name: fare_amount, Length: 15902, dtype: float64"
      ]
     },
     "execution_count": 283,
     "metadata": {},
     "output_type": "execute_result"
    }
   ],
   "source": [
    "train[\"fare_amount\"].sort_values(ascending = False)"
   ]
  },
  {
   "cell_type": "code",
   "execution_count": 285,
   "id": "2df46e1a-1c50-42bb-9884-31a31dc11b60",
   "metadata": {},
   "outputs": [
    {
     "data": {
      "text/plain": [
       "count    15902.000000\n",
       "mean        11.376356\n",
       "std         10.814908\n",
       "min          1.140000\n",
       "25%          6.000000\n",
       "50%          8.500000\n",
       "75%         12.500000\n",
       "max        453.000000\n",
       "Name: fare_amount, dtype: float64"
      ]
     },
     "execution_count": 285,
     "metadata": {},
     "output_type": "execute_result"
    }
   ],
   "source": [
    "train[\"fare_amount\"].describe()"
   ]
  },
  {
   "cell_type": "code",
   "execution_count": 287,
   "id": "388c6e80-d571-4850-ac2c-cdf2f294e3b7",
   "metadata": {},
   "outputs": [
    {
     "data": {
      "text/html": [
       "<div>\n",
       "<style scoped>\n",
       "    .dataframe tbody tr th:only-of-type {\n",
       "        vertical-align: middle;\n",
       "    }\n",
       "\n",
       "    .dataframe tbody tr th {\n",
       "        vertical-align: top;\n",
       "    }\n",
       "\n",
       "    .dataframe thead th {\n",
       "        text-align: right;\n",
       "    }\n",
       "</style>\n",
       "<table border=\"1\" class=\"dataframe\">\n",
       "  <thead>\n",
       "    <tr style=\"text-align: right;\">\n",
       "      <th></th>\n",
       "      <th>fare_amount</th>\n",
       "      <th>pickup_datetime</th>\n",
       "      <th>pickup_longitude</th>\n",
       "      <th>pickup_latitude</th>\n",
       "      <th>dropoff_longitude</th>\n",
       "      <th>dropoff_latitude</th>\n",
       "      <th>passenger_count</th>\n",
       "      <th>year</th>\n",
       "      <th>month</th>\n",
       "      <th>Date</th>\n",
       "      <th>Day</th>\n",
       "      <th>Hour</th>\n",
       "      <th>Minute</th>\n",
       "    </tr>\n",
       "  </thead>\n",
       "  <tbody>\n",
       "  </tbody>\n",
       "</table>\n",
       "</div>"
      ],
      "text/plain": [
       "Empty DataFrame\n",
       "Columns: [fare_amount, pickup_datetime, pickup_longitude, pickup_latitude, dropoff_longitude, dropoff_latitude, passenger_count, year, month, Date, Day, Hour, Minute]\n",
       "Index: []"
      ]
     },
     "execution_count": 287,
     "metadata": {},
     "output_type": "execute_result"
    }
   ],
   "source": [
    "#latitude can be from -90 to 90\n",
    "#Longitude can be from -180 to 180\n",
    "\n",
    "#we have to remove values which are out of range\n",
    "train[train[\"pickup_latitude\"]<-90]\n"
   ]
  },
  {
   "cell_type": "code",
   "execution_count": 289,
   "id": "9fde8f98-69c3-4bf6-b951-53cdf3608eb8",
   "metadata": {},
   "outputs": [
    {
     "data": {
      "text/html": [
       "<div>\n",
       "<style scoped>\n",
       "    .dataframe tbody tr th:only-of-type {\n",
       "        vertical-align: middle;\n",
       "    }\n",
       "\n",
       "    .dataframe tbody tr th {\n",
       "        vertical-align: top;\n",
       "    }\n",
       "\n",
       "    .dataframe thead th {\n",
       "        text-align: right;\n",
       "    }\n",
       "</style>\n",
       "<table border=\"1\" class=\"dataframe\">\n",
       "  <thead>\n",
       "    <tr style=\"text-align: right;\">\n",
       "      <th></th>\n",
       "      <th>fare_amount</th>\n",
       "      <th>pickup_datetime</th>\n",
       "      <th>pickup_longitude</th>\n",
       "      <th>pickup_latitude</th>\n",
       "      <th>dropoff_longitude</th>\n",
       "      <th>dropoff_latitude</th>\n",
       "      <th>passenger_count</th>\n",
       "      <th>year</th>\n",
       "      <th>month</th>\n",
       "      <th>Date</th>\n",
       "      <th>Day</th>\n",
       "      <th>Hour</th>\n",
       "      <th>Minute</th>\n",
       "    </tr>\n",
       "  </thead>\n",
       "  <tbody>\n",
       "    <tr>\n",
       "      <th>5686</th>\n",
       "      <td>3.3</td>\n",
       "      <td>2011-07-30 11:15:00</td>\n",
       "      <td>-73.947235</td>\n",
       "      <td>401.083332</td>\n",
       "      <td>-73.951392</td>\n",
       "      <td>40.778927</td>\n",
       "      <td>1.0</td>\n",
       "      <td>2011.0</td>\n",
       "      <td>7.0</td>\n",
       "      <td>30.0</td>\n",
       "      <td>5.0</td>\n",
       "      <td>11.0</td>\n",
       "      <td>15.0</td>\n",
       "    </tr>\n",
       "  </tbody>\n",
       "</table>\n",
       "</div>"
      ],
      "text/plain": [
       "      fare_amount     pickup_datetime  pickup_longitude  pickup_latitude  \\\n",
       "5686          3.3 2011-07-30 11:15:00        -73.947235       401.083332   \n",
       "\n",
       "      dropoff_longitude  dropoff_latitude  passenger_count    year  month  \\\n",
       "5686         -73.951392         40.778927              1.0  2011.0    7.0   \n",
       "\n",
       "      Date  Day  Hour  Minute  \n",
       "5686  30.0  5.0  11.0    15.0  "
      ]
     },
     "execution_count": 289,
     "metadata": {},
     "output_type": "execute_result"
    }
   ],
   "source": [
    "train[train[\"pickup_latitude\"]>90]"
   ]
  },
  {
   "cell_type": "code",
   "execution_count": 291,
   "id": "919f653a-bf35-4f9c-8728-58b1dbce55dc",
   "metadata": {},
   "outputs": [],
   "source": [
    "#removing out of range values for latitude\n",
    "train=train.drop(train[train[\"pickup_latitude\"]>90].index, axis=0)\n",
    "train=train.drop(train[train[\"pickup_latitude\"]<-90].index, axis=0)"
   ]
  },
  {
   "cell_type": "code",
   "execution_count": 293,
   "id": "1ec31c63-812d-4386-9d32-7f683e615aea",
   "metadata": {},
   "outputs": [
    {
     "name": "stdout",
     "output_type": "stream",
     "text": [
      "(15901, 13)\n"
     ]
    }
   ],
   "source": [
    "print(train.shape)"
   ]
  },
  {
   "cell_type": "code",
   "execution_count": 295,
   "id": "593d4f1b-3e1b-4b8c-8cb6-725bb7480f01",
   "metadata": {},
   "outputs": [
    {
     "data": {
      "text/html": [
       "<div>\n",
       "<style scoped>\n",
       "    .dataframe tbody tr th:only-of-type {\n",
       "        vertical-align: middle;\n",
       "    }\n",
       "\n",
       "    .dataframe tbody tr th {\n",
       "        vertical-align: top;\n",
       "    }\n",
       "\n",
       "    .dataframe thead th {\n",
       "        text-align: right;\n",
       "    }\n",
       "</style>\n",
       "<table border=\"1\" class=\"dataframe\">\n",
       "  <thead>\n",
       "    <tr style=\"text-align: right;\">\n",
       "      <th></th>\n",
       "      <th>fare_amount</th>\n",
       "      <th>pickup_datetime</th>\n",
       "      <th>pickup_longitude</th>\n",
       "      <th>pickup_latitude</th>\n",
       "      <th>dropoff_longitude</th>\n",
       "      <th>dropoff_latitude</th>\n",
       "      <th>passenger_count</th>\n",
       "      <th>year</th>\n",
       "      <th>month</th>\n",
       "      <th>Date</th>\n",
       "      <th>Day</th>\n",
       "      <th>Hour</th>\n",
       "      <th>Minute</th>\n",
       "    </tr>\n",
       "  </thead>\n",
       "  <tbody>\n",
       "  </tbody>\n",
       "</table>\n",
       "</div>"
      ],
      "text/plain": [
       "Empty DataFrame\n",
       "Columns: [fare_amount, pickup_datetime, pickup_longitude, pickup_latitude, dropoff_longitude, dropoff_latitude, passenger_count, year, month, Date, Day, Hour, Minute]\n",
       "Index: []"
      ]
     },
     "execution_count": 295,
     "metadata": {},
     "output_type": "execute_result"
    }
   ],
   "source": [
    "#checking the pickup_longitude range <-180 \n",
    "train[train[\"pickup_longitude\"]<-180]"
   ]
  },
  {
   "cell_type": "code",
   "execution_count": 297,
   "id": "349c4da2-557f-4e78-aa6e-a7346ed906f7",
   "metadata": {},
   "outputs": [
    {
     "data": {
      "text/html": [
       "<div>\n",
       "<style scoped>\n",
       "    .dataframe tbody tr th:only-of-type {\n",
       "        vertical-align: middle;\n",
       "    }\n",
       "\n",
       "    .dataframe tbody tr th {\n",
       "        vertical-align: top;\n",
       "    }\n",
       "\n",
       "    .dataframe thead th {\n",
       "        text-align: right;\n",
       "    }\n",
       "</style>\n",
       "<table border=\"1\" class=\"dataframe\">\n",
       "  <thead>\n",
       "    <tr style=\"text-align: right;\">\n",
       "      <th></th>\n",
       "      <th>fare_amount</th>\n",
       "      <th>pickup_datetime</th>\n",
       "      <th>pickup_longitude</th>\n",
       "      <th>pickup_latitude</th>\n",
       "      <th>dropoff_longitude</th>\n",
       "      <th>dropoff_latitude</th>\n",
       "      <th>passenger_count</th>\n",
       "      <th>year</th>\n",
       "      <th>month</th>\n",
       "      <th>Date</th>\n",
       "      <th>Day</th>\n",
       "      <th>Hour</th>\n",
       "      <th>Minute</th>\n",
       "    </tr>\n",
       "  </thead>\n",
       "  <tbody>\n",
       "  </tbody>\n",
       "</table>\n",
       "</div>"
      ],
      "text/plain": [
       "Empty DataFrame\n",
       "Columns: [fare_amount, pickup_datetime, pickup_longitude, pickup_latitude, dropoff_longitude, dropoff_latitude, passenger_count, year, month, Date, Day, Hour, Minute]\n",
       "Index: []"
      ]
     },
     "execution_count": 297,
     "metadata": {},
     "output_type": "execute_result"
    }
   ],
   "source": [
    "#checking the pickup_longitude range >180 \n",
    "train[train[\"pickup_longitude\"]>180]"
   ]
  },
  {
   "cell_type": "code",
   "execution_count": 299,
   "id": "c58ce2f0-91d1-46d8-b540-19922324c821",
   "metadata": {},
   "outputs": [
    {
     "data": {
      "text/html": [
       "<div>\n",
       "<style scoped>\n",
       "    .dataframe tbody tr th:only-of-type {\n",
       "        vertical-align: middle;\n",
       "    }\n",
       "\n",
       "    .dataframe tbody tr th {\n",
       "        vertical-align: top;\n",
       "    }\n",
       "\n",
       "    .dataframe thead th {\n",
       "        text-align: right;\n",
       "    }\n",
       "</style>\n",
       "<table border=\"1\" class=\"dataframe\">\n",
       "  <thead>\n",
       "    <tr style=\"text-align: right;\">\n",
       "      <th></th>\n",
       "      <th>fare_amount</th>\n",
       "      <th>pickup_datetime</th>\n",
       "      <th>pickup_longitude</th>\n",
       "      <th>pickup_latitude</th>\n",
       "      <th>dropoff_longitude</th>\n",
       "      <th>dropoff_latitude</th>\n",
       "      <th>passenger_count</th>\n",
       "      <th>year</th>\n",
       "      <th>month</th>\n",
       "      <th>Date</th>\n",
       "      <th>Day</th>\n",
       "      <th>Hour</th>\n",
       "      <th>Minute</th>\n",
       "    </tr>\n",
       "  </thead>\n",
       "  <tbody>\n",
       "  </tbody>\n",
       "</table>\n",
       "</div>"
      ],
      "text/plain": [
       "Empty DataFrame\n",
       "Columns: [fare_amount, pickup_datetime, pickup_longitude, pickup_latitude, dropoff_longitude, dropoff_latitude, passenger_count, year, month, Date, Day, Hour, Minute]\n",
       "Index: []"
      ]
     },
     "execution_count": 299,
     "metadata": {},
     "output_type": "execute_result"
    }
   ],
   "source": [
    "#checking for dropoff latitude\n",
    "train[train[\"dropoff_latitude\"]>90]"
   ]
  },
  {
   "cell_type": "code",
   "execution_count": 301,
   "id": "c286cf43-44a2-49f8-9a99-15ea9549db8b",
   "metadata": {},
   "outputs": [
    {
     "data": {
      "text/html": [
       "<div>\n",
       "<style scoped>\n",
       "    .dataframe tbody tr th:only-of-type {\n",
       "        vertical-align: middle;\n",
       "    }\n",
       "\n",
       "    .dataframe tbody tr th {\n",
       "        vertical-align: top;\n",
       "    }\n",
       "\n",
       "    .dataframe thead th {\n",
       "        text-align: right;\n",
       "    }\n",
       "</style>\n",
       "<table border=\"1\" class=\"dataframe\">\n",
       "  <thead>\n",
       "    <tr style=\"text-align: right;\">\n",
       "      <th></th>\n",
       "      <th>fare_amount</th>\n",
       "      <th>pickup_datetime</th>\n",
       "      <th>pickup_longitude</th>\n",
       "      <th>pickup_latitude</th>\n",
       "      <th>dropoff_longitude</th>\n",
       "      <th>dropoff_latitude</th>\n",
       "      <th>passenger_count</th>\n",
       "      <th>year</th>\n",
       "      <th>month</th>\n",
       "      <th>Date</th>\n",
       "      <th>Day</th>\n",
       "      <th>Hour</th>\n",
       "      <th>Minute</th>\n",
       "    </tr>\n",
       "  </thead>\n",
       "  <tbody>\n",
       "  </tbody>\n",
       "</table>\n",
       "</div>"
      ],
      "text/plain": [
       "Empty DataFrame\n",
       "Columns: [fare_amount, pickup_datetime, pickup_longitude, pickup_latitude, dropoff_longitude, dropoff_latitude, passenger_count, year, month, Date, Day, Hour, Minute]\n",
       "Index: []"
      ]
     },
     "execution_count": 301,
     "metadata": {},
     "output_type": "execute_result"
    }
   ],
   "source": [
    "train[train[\"dropoff_latitude\"]<-90]"
   ]
  },
  {
   "cell_type": "code",
   "execution_count": 303,
   "id": "a8a32a42-5e47-4bd4-a349-5c0d4d6778a1",
   "metadata": {},
   "outputs": [
    {
     "data": {
      "text/html": [
       "<div>\n",
       "<style scoped>\n",
       "    .dataframe tbody tr th:only-of-type {\n",
       "        vertical-align: middle;\n",
       "    }\n",
       "\n",
       "    .dataframe tbody tr th {\n",
       "        vertical-align: top;\n",
       "    }\n",
       "\n",
       "    .dataframe thead th {\n",
       "        text-align: right;\n",
       "    }\n",
       "</style>\n",
       "<table border=\"1\" class=\"dataframe\">\n",
       "  <thead>\n",
       "    <tr style=\"text-align: right;\">\n",
       "      <th></th>\n",
       "      <th>fare_amount</th>\n",
       "      <th>pickup_datetime</th>\n",
       "      <th>pickup_longitude</th>\n",
       "      <th>pickup_latitude</th>\n",
       "      <th>dropoff_longitude</th>\n",
       "      <th>dropoff_latitude</th>\n",
       "      <th>passenger_count</th>\n",
       "      <th>year</th>\n",
       "      <th>month</th>\n",
       "      <th>Date</th>\n",
       "      <th>Day</th>\n",
       "      <th>Hour</th>\n",
       "      <th>Minute</th>\n",
       "    </tr>\n",
       "  </thead>\n",
       "  <tbody>\n",
       "  </tbody>\n",
       "</table>\n",
       "</div>"
      ],
      "text/plain": [
       "Empty DataFrame\n",
       "Columns: [fare_amount, pickup_datetime, pickup_longitude, pickup_latitude, dropoff_longitude, dropoff_latitude, passenger_count, year, month, Date, Day, Hour, Minute]\n",
       "Index: []"
      ]
     },
     "execution_count": 303,
     "metadata": {},
     "output_type": "execute_result"
    }
   ],
   "source": [
    "#checking for dropoff longitude\n",
    "train[train[\"dropoff_longitude\"]>180]"
   ]
  },
  {
   "cell_type": "code",
   "execution_count": 305,
   "id": "0d2f4463-2c6d-42bb-95f1-2a4f06653761",
   "metadata": {},
   "outputs": [
    {
     "data": {
      "text/html": [
       "<div>\n",
       "<style scoped>\n",
       "    .dataframe tbody tr th:only-of-type {\n",
       "        vertical-align: middle;\n",
       "    }\n",
       "\n",
       "    .dataframe tbody tr th {\n",
       "        vertical-align: top;\n",
       "    }\n",
       "\n",
       "    .dataframe thead th {\n",
       "        text-align: right;\n",
       "    }\n",
       "</style>\n",
       "<table border=\"1\" class=\"dataframe\">\n",
       "  <thead>\n",
       "    <tr style=\"text-align: right;\">\n",
       "      <th></th>\n",
       "      <th>fare_amount</th>\n",
       "      <th>pickup_datetime</th>\n",
       "      <th>pickup_longitude</th>\n",
       "      <th>pickup_latitude</th>\n",
       "      <th>dropoff_longitude</th>\n",
       "      <th>dropoff_latitude</th>\n",
       "      <th>passenger_count</th>\n",
       "      <th>year</th>\n",
       "      <th>month</th>\n",
       "      <th>Date</th>\n",
       "      <th>Day</th>\n",
       "      <th>Hour</th>\n",
       "      <th>Minute</th>\n",
       "    </tr>\n",
       "  </thead>\n",
       "  <tbody>\n",
       "  </tbody>\n",
       "</table>\n",
       "</div>"
      ],
      "text/plain": [
       "Empty DataFrame\n",
       "Columns: [fare_amount, pickup_datetime, pickup_longitude, pickup_latitude, dropoff_longitude, dropoff_latitude, passenger_count, year, month, Date, Day, Hour, Minute]\n",
       "Index: []"
      ]
     },
     "execution_count": 305,
     "metadata": {},
     "output_type": "execute_result"
    }
   ],
   "source": [
    "train[train[\"dropoff_longitude\"]<-180]"
   ]
  },
  {
   "cell_type": "code",
   "execution_count": 307,
   "id": "b6e43c42-85e3-454b-ab05-c31ad702e690",
   "metadata": {},
   "outputs": [
    {
     "data": {
      "text/plain": [
       "(15901, 13)"
      ]
     },
     "execution_count": 307,
     "metadata": {},
     "output_type": "execute_result"
    }
   ],
   "source": [
    "train.shape"
   ]
  },
  {
   "cell_type": "code",
   "execution_count": 309,
   "id": "f3585b4d-03e8-4406-aa42-26728bde6e4b",
   "metadata": {},
   "outputs": [
    {
     "data": {
      "text/plain": [
       "fare_amount          0\n",
       "pickup_datetime      0\n",
       "pickup_longitude     0\n",
       "pickup_latitude      0\n",
       "dropoff_longitude    0\n",
       "dropoff_latitude     0\n",
       "passenger_count      0\n",
       "year                 0\n",
       "month                0\n",
       "Date                 0\n",
       "Day                  0\n",
       "Hour                 0\n",
       "Minute               0\n",
       "dtype: int64"
      ]
     },
     "execution_count": 309,
     "metadata": {},
     "output_type": "execute_result"
    }
   ],
   "source": [
    "train.isnull().sum()"
   ]
  },
  {
   "cell_type": "code",
   "execution_count": 311,
   "id": "f0beab7f-0dbe-4169-93e1-20006e75139a",
   "metadata": {},
   "outputs": [
    {
     "data": {
      "text/plain": [
       "pickup_datetime      0\n",
       "pickup_longitude     0\n",
       "pickup_latitude      0\n",
       "dropoff_longitude    0\n",
       "dropoff_latitude     0\n",
       "passenger_count      0\n",
       "year                 0\n",
       "month                0\n",
       "Date                 0\n",
       "Day                  0\n",
       "Hour                 0\n",
       "Minute               0\n",
       "dtype: int64"
      ]
     },
     "execution_count": 311,
     "metadata": {},
     "output_type": "execute_result"
    }
   ],
   "source": [
    "test.isnull().sum()"
   ]
  },
  {
   "cell_type": "markdown",
   "id": "e1dbdaa3-d8dc-4726-bffd-ca722d740a48",
   "metadata": {},
   "source": [
    "## Data processing and cleaing is done now calculating the Haversine formula\n"
   ]
  },
  {
   "cell_type": "code",
   "execution_count": 314,
   "id": "5fffa104-3109-4767-853f-6d551de10c5c",
   "metadata": {},
   "outputs": [],
   "source": [
    "# we have been given pickup-latitude, pickup_longitude and dropoff_latitude,dropoff_longitude\n",
    "# now we have to calculate distance using Haversine formula by declaring new variable distance\n",
    "\n",
    "from math import radians,cos,sin,asin,sqrt\n",
    "\n",
    "def haversine(a):\n",
    "    lon1 = a.iloc[0] \n",
    "    lat1 = a.iloc[1]\n",
    "    lon2 = a.iloc[2] \n",
    "    lat2 = a.iloc[3]\n",
    "    \n",
    "    #\"Calculating the great circle distance between the two points on earth (specified in decimal degree)\"\n",
    "    #Converting decimal degrees to radians\n",
    "    lon1,lat1,lon2,lat2 = map(radians, [lon1,lat1,lon2,lat2])\n",
    "    \n",
    "    #Haversine formula\n",
    "    dlon = lon2-lon1\n",
    "    dlat = lat2-lat1\n",
    "    a= sin(dlat/2)**2 + cos(lat1) *cos(lat2) *sin(dlon/2)**2 \n",
    "    c= 2*asin(sqrt(a))\n",
    "    \n",
    "    #radius of earth in km is 6371\n",
    "    km = 6371 * c\n",
    "    return km\n",
    "    "
   ]
  },
  {
   "cell_type": "code",
   "execution_count": 316,
   "id": "9a9adb55-12e7-4a83-b3a7-1e0212065b3d",
   "metadata": {},
   "outputs": [],
   "source": [
    "train[\"distance\"] = train[['pickup_longitude','pickup_latitude','dropoff_longitude','dropoff_latitude']].apply(haversine, axis = 1)"
   ]
  },
  {
   "cell_type": "code",
   "execution_count": 318,
   "id": "5713668a-b91a-4a28-be26-834a3d1063be",
   "metadata": {},
   "outputs": [],
   "source": [
    "test[\"distance\"] = test[['pickup_longitude','pickup_latitude','dropoff_longitude','dropoff_latitude']].apply(haversine, axis = 1)"
   ]
  },
  {
   "cell_type": "code",
   "execution_count": 320,
   "id": "14e3b4c1-8689-4cb7-b041-b2cedce07d2a",
   "metadata": {},
   "outputs": [
    {
     "data": {
      "text/html": [
       "<div>\n",
       "<style scoped>\n",
       "    .dataframe tbody tr th:only-of-type {\n",
       "        vertical-align: middle;\n",
       "    }\n",
       "\n",
       "    .dataframe tbody tr th {\n",
       "        vertical-align: top;\n",
       "    }\n",
       "\n",
       "    .dataframe thead th {\n",
       "        text-align: right;\n",
       "    }\n",
       "</style>\n",
       "<table border=\"1\" class=\"dataframe\">\n",
       "  <thead>\n",
       "    <tr style=\"text-align: right;\">\n",
       "      <th></th>\n",
       "      <th>fare_amount</th>\n",
       "      <th>pickup_datetime</th>\n",
       "      <th>pickup_longitude</th>\n",
       "      <th>pickup_latitude</th>\n",
       "      <th>dropoff_longitude</th>\n",
       "      <th>dropoff_latitude</th>\n",
       "      <th>passenger_count</th>\n",
       "      <th>year</th>\n",
       "      <th>month</th>\n",
       "      <th>Date</th>\n",
       "      <th>Day</th>\n",
       "      <th>Hour</th>\n",
       "      <th>Minute</th>\n",
       "      <th>distance</th>\n",
       "    </tr>\n",
       "  </thead>\n",
       "  <tbody>\n",
       "    <tr>\n",
       "      <th>0</th>\n",
       "      <td>4.5</td>\n",
       "      <td>2009-06-15 17:26:21</td>\n",
       "      <td>-73.844311</td>\n",
       "      <td>40.721319</td>\n",
       "      <td>-73.841610</td>\n",
       "      <td>40.712278</td>\n",
       "      <td>1.0</td>\n",
       "      <td>2009.0</td>\n",
       "      <td>6.0</td>\n",
       "      <td>15.0</td>\n",
       "      <td>0.0</td>\n",
       "      <td>17.0</td>\n",
       "      <td>26.0</td>\n",
       "      <td>1.030764</td>\n",
       "    </tr>\n",
       "    <tr>\n",
       "      <th>1</th>\n",
       "      <td>16.9</td>\n",
       "      <td>2010-01-05 16:52:16</td>\n",
       "      <td>-74.016048</td>\n",
       "      <td>40.711303</td>\n",
       "      <td>-73.979268</td>\n",
       "      <td>40.782004</td>\n",
       "      <td>1.0</td>\n",
       "      <td>2010.0</td>\n",
       "      <td>1.0</td>\n",
       "      <td>5.0</td>\n",
       "      <td>1.0</td>\n",
       "      <td>16.0</td>\n",
       "      <td>52.0</td>\n",
       "      <td>8.450134</td>\n",
       "    </tr>\n",
       "    <tr>\n",
       "      <th>2</th>\n",
       "      <td>5.7</td>\n",
       "      <td>2011-08-18 00:35:00</td>\n",
       "      <td>-73.982738</td>\n",
       "      <td>40.761270</td>\n",
       "      <td>-73.991242</td>\n",
       "      <td>40.750562</td>\n",
       "      <td>2.0</td>\n",
       "      <td>2011.0</td>\n",
       "      <td>8.0</td>\n",
       "      <td>18.0</td>\n",
       "      <td>3.0</td>\n",
       "      <td>0.0</td>\n",
       "      <td>35.0</td>\n",
       "      <td>1.389525</td>\n",
       "    </tr>\n",
       "    <tr>\n",
       "      <th>3</th>\n",
       "      <td>7.7</td>\n",
       "      <td>2012-04-21 04:30:42</td>\n",
       "      <td>-73.987130</td>\n",
       "      <td>40.733143</td>\n",
       "      <td>-73.991567</td>\n",
       "      <td>40.758092</td>\n",
       "      <td>1.0</td>\n",
       "      <td>2012.0</td>\n",
       "      <td>4.0</td>\n",
       "      <td>21.0</td>\n",
       "      <td>5.0</td>\n",
       "      <td>4.0</td>\n",
       "      <td>30.0</td>\n",
       "      <td>2.799270</td>\n",
       "    </tr>\n",
       "    <tr>\n",
       "      <th>4</th>\n",
       "      <td>5.3</td>\n",
       "      <td>2010-03-09 07:51:00</td>\n",
       "      <td>-73.968095</td>\n",
       "      <td>40.768008</td>\n",
       "      <td>-73.956655</td>\n",
       "      <td>40.783762</td>\n",
       "      <td>1.0</td>\n",
       "      <td>2010.0</td>\n",
       "      <td>3.0</td>\n",
       "      <td>9.0</td>\n",
       "      <td>1.0</td>\n",
       "      <td>7.0</td>\n",
       "      <td>51.0</td>\n",
       "      <td>1.999157</td>\n",
       "    </tr>\n",
       "  </tbody>\n",
       "</table>\n",
       "</div>"
      ],
      "text/plain": [
       "   fare_amount     pickup_datetime  pickup_longitude  pickup_latitude  \\\n",
       "0          4.5 2009-06-15 17:26:21        -73.844311        40.721319   \n",
       "1         16.9 2010-01-05 16:52:16        -74.016048        40.711303   \n",
       "2          5.7 2011-08-18 00:35:00        -73.982738        40.761270   \n",
       "3          7.7 2012-04-21 04:30:42        -73.987130        40.733143   \n",
       "4          5.3 2010-03-09 07:51:00        -73.968095        40.768008   \n",
       "\n",
       "   dropoff_longitude  dropoff_latitude  passenger_count    year  month  Date  \\\n",
       "0         -73.841610         40.712278              1.0  2009.0    6.0  15.0   \n",
       "1         -73.979268         40.782004              1.0  2010.0    1.0   5.0   \n",
       "2         -73.991242         40.750562              2.0  2011.0    8.0  18.0   \n",
       "3         -73.991567         40.758092              1.0  2012.0    4.0  21.0   \n",
       "4         -73.956655         40.783762              1.0  2010.0    3.0   9.0   \n",
       "\n",
       "   Day  Hour  Minute  distance  \n",
       "0  0.0  17.0    26.0  1.030764  \n",
       "1  1.0  16.0    52.0  8.450134  \n",
       "2  3.0   0.0    35.0  1.389525  \n",
       "3  5.0   4.0    30.0  2.799270  \n",
       "4  1.0   7.0    51.0  1.999157  "
      ]
     },
     "execution_count": 320,
     "metadata": {},
     "output_type": "execute_result"
    }
   ],
   "source": [
    "train.head()"
   ]
  },
  {
   "cell_type": "code",
   "execution_count": 322,
   "id": "d4d87eb7-19f1-4844-86a9-16a273ef3361",
   "metadata": {},
   "outputs": [
    {
     "data": {
      "text/html": [
       "<div>\n",
       "<style scoped>\n",
       "    .dataframe tbody tr th:only-of-type {\n",
       "        vertical-align: middle;\n",
       "    }\n",
       "\n",
       "    .dataframe tbody tr th {\n",
       "        vertical-align: top;\n",
       "    }\n",
       "\n",
       "    .dataframe thead th {\n",
       "        text-align: right;\n",
       "    }\n",
       "</style>\n",
       "<table border=\"1\" class=\"dataframe\">\n",
       "  <thead>\n",
       "    <tr style=\"text-align: right;\">\n",
       "      <th></th>\n",
       "      <th>pickup_datetime</th>\n",
       "      <th>pickup_longitude</th>\n",
       "      <th>pickup_latitude</th>\n",
       "      <th>dropoff_longitude</th>\n",
       "      <th>dropoff_latitude</th>\n",
       "      <th>passenger_count</th>\n",
       "      <th>year</th>\n",
       "      <th>month</th>\n",
       "      <th>Date</th>\n",
       "      <th>Day</th>\n",
       "      <th>Hour</th>\n",
       "      <th>Minute</th>\n",
       "      <th>distance</th>\n",
       "    </tr>\n",
       "  </thead>\n",
       "  <tbody>\n",
       "    <tr>\n",
       "      <th>0</th>\n",
       "      <td>2015-01-27 13:08:24</td>\n",
       "      <td>-73.973320</td>\n",
       "      <td>40.763805</td>\n",
       "      <td>-73.981430</td>\n",
       "      <td>40.743835</td>\n",
       "      <td>1</td>\n",
       "      <td>2015</td>\n",
       "      <td>1</td>\n",
       "      <td>27</td>\n",
       "      <td>1</td>\n",
       "      <td>13</td>\n",
       "      <td>8</td>\n",
       "      <td>2.323259</td>\n",
       "    </tr>\n",
       "    <tr>\n",
       "      <th>1</th>\n",
       "      <td>2015-01-27 13:08:24</td>\n",
       "      <td>-73.986862</td>\n",
       "      <td>40.719383</td>\n",
       "      <td>-73.998886</td>\n",
       "      <td>40.739201</td>\n",
       "      <td>1</td>\n",
       "      <td>2015</td>\n",
       "      <td>1</td>\n",
       "      <td>27</td>\n",
       "      <td>1</td>\n",
       "      <td>13</td>\n",
       "      <td>8</td>\n",
       "      <td>2.425353</td>\n",
       "    </tr>\n",
       "    <tr>\n",
       "      <th>2</th>\n",
       "      <td>2011-10-08 11:53:44</td>\n",
       "      <td>-73.982524</td>\n",
       "      <td>40.751260</td>\n",
       "      <td>-73.979654</td>\n",
       "      <td>40.746139</td>\n",
       "      <td>1</td>\n",
       "      <td>2011</td>\n",
       "      <td>10</td>\n",
       "      <td>8</td>\n",
       "      <td>5</td>\n",
       "      <td>11</td>\n",
       "      <td>53</td>\n",
       "      <td>0.618628</td>\n",
       "    </tr>\n",
       "    <tr>\n",
       "      <th>3</th>\n",
       "      <td>2012-12-01 21:12:12</td>\n",
       "      <td>-73.981160</td>\n",
       "      <td>40.767807</td>\n",
       "      <td>-73.990448</td>\n",
       "      <td>40.751635</td>\n",
       "      <td>1</td>\n",
       "      <td>2012</td>\n",
       "      <td>12</td>\n",
       "      <td>1</td>\n",
       "      <td>5</td>\n",
       "      <td>21</td>\n",
       "      <td>12</td>\n",
       "      <td>1.961033</td>\n",
       "    </tr>\n",
       "    <tr>\n",
       "      <th>4</th>\n",
       "      <td>2012-12-01 21:12:12</td>\n",
       "      <td>-73.966046</td>\n",
       "      <td>40.789775</td>\n",
       "      <td>-73.988565</td>\n",
       "      <td>40.744427</td>\n",
       "      <td>1</td>\n",
       "      <td>2012</td>\n",
       "      <td>12</td>\n",
       "      <td>1</td>\n",
       "      <td>5</td>\n",
       "      <td>21</td>\n",
       "      <td>12</td>\n",
       "      <td>5.387301</td>\n",
       "    </tr>\n",
       "  </tbody>\n",
       "</table>\n",
       "</div>"
      ],
      "text/plain": [
       "      pickup_datetime  pickup_longitude  pickup_latitude  dropoff_longitude  \\\n",
       "0 2015-01-27 13:08:24        -73.973320        40.763805         -73.981430   \n",
       "1 2015-01-27 13:08:24        -73.986862        40.719383         -73.998886   \n",
       "2 2011-10-08 11:53:44        -73.982524        40.751260         -73.979654   \n",
       "3 2012-12-01 21:12:12        -73.981160        40.767807         -73.990448   \n",
       "4 2012-12-01 21:12:12        -73.966046        40.789775         -73.988565   \n",
       "\n",
       "   dropoff_latitude  passenger_count  year  month  Date  Day  Hour  Minute  \\\n",
       "0         40.743835                1  2015      1    27    1    13       8   \n",
       "1         40.739201                1  2015      1    27    1    13       8   \n",
       "2         40.746139                1  2011     10     8    5    11      53   \n",
       "3         40.751635                1  2012     12     1    5    21      12   \n",
       "4         40.744427                1  2012     12     1    5    21      12   \n",
       "\n",
       "   distance  \n",
       "0  2.323259  \n",
       "1  2.425353  \n",
       "2  0.618628  \n",
       "3  1.961033  \n",
       "4  5.387301  "
      ]
     },
     "execution_count": 322,
     "metadata": {},
     "output_type": "execute_result"
    }
   ],
   "source": [
    "test.head()"
   ]
  },
  {
   "cell_type": "code",
   "execution_count": 324,
   "id": "495f3aca-fc86-4a0c-8835-2ba07f95ff85",
   "metadata": {},
   "outputs": [
    {
     "data": {
      "text/plain": [
       "fare_amount            459\n",
       "pickup_datetime      15856\n",
       "pickup_longitude     13672\n",
       "pickup_latitude      14110\n",
       "dropoff_longitude    13763\n",
       "dropoff_latitude     14136\n",
       "passenger_count          7\n",
       "year                     7\n",
       "month                   12\n",
       "Date                    31\n",
       "Day                      7\n",
       "Hour                    24\n",
       "Minute                  60\n",
       "distance             15448\n",
       "dtype: int64"
      ]
     },
     "execution_count": 324,
     "metadata": {},
     "output_type": "execute_result"
    }
   ],
   "source": [
    "train.nunique()"
   ]
  },
  {
   "cell_type": "code",
   "execution_count": 326,
   "id": "22728014-83c9-4be2-8621-3c802c2afa0c",
   "metadata": {},
   "outputs": [
    {
     "data": {
      "text/plain": [
       "9147     8667.542104\n",
       "8647     8667.497512\n",
       "2397     8667.454421\n",
       "472      8667.304968\n",
       "11653    8666.701504\n",
       "            ...     \n",
       "8982        0.000000\n",
       "7009        0.000000\n",
       "4769        0.000000\n",
       "3711        0.000000\n",
       "12478       0.000000\n",
       "Name: distance, Length: 15901, dtype: float64"
      ]
     },
     "execution_count": 326,
     "metadata": {},
     "output_type": "execute_result"
    }
   ],
   "source": [
    "#finding the descending order of distance to know whether the outlier is present or not\n",
    "train[\"distance\"].sort_values(ascending= False)"
   ]
  },
  {
   "cell_type": "code",
   "execution_count": 328,
   "id": "622db1b9-1b62-4223-84a2-e9f4bdb66b62",
   "metadata": {},
   "outputs": [],
   "source": [
    "# top 23 values are really high and it's not possible cause diameter of earth is 8000 km .So if we remove these values the top will come down to 127.  "
   ]
  },
  {
   "cell_type": "code",
   "execution_count": 330,
   "id": "abe02e4a-140a-41cf-a617-2d1873e5aba8",
   "metadata": {},
   "outputs": [
    {
     "data": {
      "text/plain": [
       "Counter({False: 15447, True: 454})"
      ]
     },
     "execution_count": 330,
     "metadata": {},
     "output_type": "execute_result"
    }
   ],
   "source": [
    "Counter(train[\"distance\"]==0)"
   ]
  },
  {
   "cell_type": "code",
   "execution_count": 332,
   "id": "8fe6e948-1403-404b-a234-8239fa6326d2",
   "metadata": {},
   "outputs": [
    {
     "data": {
      "text/plain": [
       "Counter({False: 9829, True: 85})"
      ]
     },
     "execution_count": 332,
     "metadata": {},
     "output_type": "execute_result"
    }
   ],
   "source": [
    "Counter(test[\"distance\"]==0)"
   ]
  },
  {
   "cell_type": "code",
   "execution_count": 334,
   "id": "499d7ede-3c0b-4d36-ad37-ad96abdb8326",
   "metadata": {},
   "outputs": [
    {
     "data": {
      "text/plain": [
       "Counter({False: 15901})"
      ]
     },
     "execution_count": 334,
     "metadata": {},
     "output_type": "execute_result"
    }
   ],
   "source": [
    "Counter(train[\"fare_amount\"]==0)"
   ]
  },
  {
   "cell_type": "code",
   "execution_count": 336,
   "id": "f5e03fbf-0ede-4146-9717-1367e94cf863",
   "metadata": {},
   "outputs": [
    {
     "data": {
      "text/plain": [
       "(15878, 14)"
      ]
     },
     "execution_count": 336,
     "metadata": {},
     "output_type": "execute_result"
    }
   ],
   "source": [
    "# lets remove rows who's distance is more than 127 i.e 130 approx\n",
    "train=train.drop(train[train[\"distance\"]> 130].index, axis=0)\n",
    "train.shape"
   ]
  },
  {
   "cell_type": "code",
   "execution_count": 338,
   "id": "0af2401b-5cf4-4704-8e1e-05650d080f28",
   "metadata": {},
   "outputs": [
    {
     "data": {
      "text/plain": [
       "(15424, 14)"
      ]
     },
     "execution_count": 338,
     "metadata": {},
     "output_type": "execute_result"
    }
   ],
   "source": [
    "#we need to drop all these values which are equal to 0\n",
    "train=train.drop(train[train[\"distance\"]==0].index, axis=0)\n",
    "train.shape"
   ]
  },
  {
   "cell_type": "code",
   "execution_count": 340,
   "id": "fd34adf4-4f82-40e9-b7cb-5025f1cc7400",
   "metadata": {},
   "outputs": [
    {
     "data": {
      "text/plain": [
       "(9829, 13)"
      ]
     },
     "execution_count": 340,
     "metadata": {},
     "output_type": "execute_result"
    }
   ],
   "source": [
    "test=test.drop(test[test[\"distance\"]==0].index, axis=0)\n",
    "test.shape"
   ]
  },
  {
   "cell_type": "code",
   "execution_count": 342,
   "id": "0ad9040b-f8c2-4fef-a97f-f7fbda194b4c",
   "metadata": {},
   "outputs": [
    {
     "data": {
      "text/html": [
       "<div>\n",
       "<style scoped>\n",
       "    .dataframe tbody tr th:only-of-type {\n",
       "        vertical-align: middle;\n",
       "    }\n",
       "\n",
       "    .dataframe tbody tr th {\n",
       "        vertical-align: top;\n",
       "    }\n",
       "\n",
       "    .dataframe thead th {\n",
       "        text-align: right;\n",
       "    }\n",
       "</style>\n",
       "<table border=\"1\" class=\"dataframe\">\n",
       "  <thead>\n",
       "    <tr style=\"text-align: right;\">\n",
       "      <th></th>\n",
       "      <th>fare_amount</th>\n",
       "      <th>pickup_datetime</th>\n",
       "      <th>pickup_longitude</th>\n",
       "      <th>pickup_latitude</th>\n",
       "      <th>dropoff_longitude</th>\n",
       "      <th>dropoff_latitude</th>\n",
       "      <th>passenger_count</th>\n",
       "      <th>year</th>\n",
       "      <th>month</th>\n",
       "      <th>Date</th>\n",
       "      <th>Day</th>\n",
       "      <th>Hour</th>\n",
       "      <th>Minute</th>\n",
       "      <th>distance</th>\n",
       "    </tr>\n",
       "  </thead>\n",
       "  <tbody>\n",
       "    <tr>\n",
       "      <th>0</th>\n",
       "      <td>4.5</td>\n",
       "      <td>2009-06-15 17:26:21</td>\n",
       "      <td>-73.844311</td>\n",
       "      <td>40.721319</td>\n",
       "      <td>-73.841610</td>\n",
       "      <td>40.712278</td>\n",
       "      <td>1.0</td>\n",
       "      <td>2009.0</td>\n",
       "      <td>6.0</td>\n",
       "      <td>15.0</td>\n",
       "      <td>0.0</td>\n",
       "      <td>17.0</td>\n",
       "      <td>26.0</td>\n",
       "      <td>1.030764</td>\n",
       "    </tr>\n",
       "    <tr>\n",
       "      <th>1</th>\n",
       "      <td>16.9</td>\n",
       "      <td>2010-01-05 16:52:16</td>\n",
       "      <td>-74.016048</td>\n",
       "      <td>40.711303</td>\n",
       "      <td>-73.979268</td>\n",
       "      <td>40.782004</td>\n",
       "      <td>1.0</td>\n",
       "      <td>2010.0</td>\n",
       "      <td>1.0</td>\n",
       "      <td>5.0</td>\n",
       "      <td>1.0</td>\n",
       "      <td>16.0</td>\n",
       "      <td>52.0</td>\n",
       "      <td>8.450134</td>\n",
       "    </tr>\n",
       "    <tr>\n",
       "      <th>2</th>\n",
       "      <td>5.7</td>\n",
       "      <td>2011-08-18 00:35:00</td>\n",
       "      <td>-73.982738</td>\n",
       "      <td>40.761270</td>\n",
       "      <td>-73.991242</td>\n",
       "      <td>40.750562</td>\n",
       "      <td>2.0</td>\n",
       "      <td>2011.0</td>\n",
       "      <td>8.0</td>\n",
       "      <td>18.0</td>\n",
       "      <td>3.0</td>\n",
       "      <td>0.0</td>\n",
       "      <td>35.0</td>\n",
       "      <td>1.389525</td>\n",
       "    </tr>\n",
       "    <tr>\n",
       "      <th>3</th>\n",
       "      <td>7.7</td>\n",
       "      <td>2012-04-21 04:30:42</td>\n",
       "      <td>-73.987130</td>\n",
       "      <td>40.733143</td>\n",
       "      <td>-73.991567</td>\n",
       "      <td>40.758092</td>\n",
       "      <td>1.0</td>\n",
       "      <td>2012.0</td>\n",
       "      <td>4.0</td>\n",
       "      <td>21.0</td>\n",
       "      <td>5.0</td>\n",
       "      <td>4.0</td>\n",
       "      <td>30.0</td>\n",
       "      <td>2.799270</td>\n",
       "    </tr>\n",
       "    <tr>\n",
       "      <th>4</th>\n",
       "      <td>5.3</td>\n",
       "      <td>2010-03-09 07:51:00</td>\n",
       "      <td>-73.968095</td>\n",
       "      <td>40.768008</td>\n",
       "      <td>-73.956655</td>\n",
       "      <td>40.783762</td>\n",
       "      <td>1.0</td>\n",
       "      <td>2010.0</td>\n",
       "      <td>3.0</td>\n",
       "      <td>9.0</td>\n",
       "      <td>1.0</td>\n",
       "      <td>7.0</td>\n",
       "      <td>51.0</td>\n",
       "      <td>1.999157</td>\n",
       "    </tr>\n",
       "    <tr>\n",
       "      <th>...</th>\n",
       "      <td>...</td>\n",
       "      <td>...</td>\n",
       "      <td>...</td>\n",
       "      <td>...</td>\n",
       "      <td>...</td>\n",
       "      <td>...</td>\n",
       "      <td>...</td>\n",
       "      <td>...</td>\n",
       "      <td>...</td>\n",
       "      <td>...</td>\n",
       "      <td>...</td>\n",
       "      <td>...</td>\n",
       "      <td>...</td>\n",
       "      <td>...</td>\n",
       "    </tr>\n",
       "    <tr>\n",
       "      <th>16061</th>\n",
       "      <td>10.9</td>\n",
       "      <td>2009-05-20 18:56:42</td>\n",
       "      <td>-73.994191</td>\n",
       "      <td>40.751138</td>\n",
       "      <td>-73.962769</td>\n",
       "      <td>40.769719</td>\n",
       "      <td>1.0</td>\n",
       "      <td>2009.0</td>\n",
       "      <td>5.0</td>\n",
       "      <td>20.0</td>\n",
       "      <td>2.0</td>\n",
       "      <td>18.0</td>\n",
       "      <td>56.0</td>\n",
       "      <td>3.357490</td>\n",
       "    </tr>\n",
       "    <tr>\n",
       "      <th>16062</th>\n",
       "      <td>6.5</td>\n",
       "      <td>2014-12-12 07:41:00</td>\n",
       "      <td>-74.008820</td>\n",
       "      <td>40.718757</td>\n",
       "      <td>-73.998865</td>\n",
       "      <td>40.719987</td>\n",
       "      <td>1.0</td>\n",
       "      <td>2014.0</td>\n",
       "      <td>12.0</td>\n",
       "      <td>12.0</td>\n",
       "      <td>4.0</td>\n",
       "      <td>7.0</td>\n",
       "      <td>41.0</td>\n",
       "      <td>0.850044</td>\n",
       "    </tr>\n",
       "    <tr>\n",
       "      <th>16063</th>\n",
       "      <td>16.1</td>\n",
       "      <td>2009-07-13 07:58:00</td>\n",
       "      <td>-73.981310</td>\n",
       "      <td>40.781695</td>\n",
       "      <td>-74.014392</td>\n",
       "      <td>40.715527</td>\n",
       "      <td>2.0</td>\n",
       "      <td>2009.0</td>\n",
       "      <td>7.0</td>\n",
       "      <td>13.0</td>\n",
       "      <td>0.0</td>\n",
       "      <td>7.0</td>\n",
       "      <td>58.0</td>\n",
       "      <td>7.867638</td>\n",
       "    </tr>\n",
       "    <tr>\n",
       "      <th>16064</th>\n",
       "      <td>8.5</td>\n",
       "      <td>2009-11-11 11:19:07</td>\n",
       "      <td>-73.972507</td>\n",
       "      <td>40.753417</td>\n",
       "      <td>-73.979577</td>\n",
       "      <td>40.765495</td>\n",
       "      <td>1.0</td>\n",
       "      <td>2009.0</td>\n",
       "      <td>11.0</td>\n",
       "      <td>11.0</td>\n",
       "      <td>2.0</td>\n",
       "      <td>11.0</td>\n",
       "      <td>19.0</td>\n",
       "      <td>1.469105</td>\n",
       "    </tr>\n",
       "    <tr>\n",
       "      <th>16065</th>\n",
       "      <td>8.1</td>\n",
       "      <td>2010-05-11 23:53:00</td>\n",
       "      <td>-73.957027</td>\n",
       "      <td>40.765945</td>\n",
       "      <td>-73.981983</td>\n",
       "      <td>40.779560</td>\n",
       "      <td>1.0</td>\n",
       "      <td>2010.0</td>\n",
       "      <td>5.0</td>\n",
       "      <td>11.0</td>\n",
       "      <td>1.0</td>\n",
       "      <td>23.0</td>\n",
       "      <td>53.0</td>\n",
       "      <td>2.590036</td>\n",
       "    </tr>\n",
       "  </tbody>\n",
       "</table>\n",
       "<p>15424 rows × 14 columns</p>\n",
       "</div>"
      ],
      "text/plain": [
       "       fare_amount     pickup_datetime  pickup_longitude  pickup_latitude  \\\n",
       "0              4.5 2009-06-15 17:26:21        -73.844311        40.721319   \n",
       "1             16.9 2010-01-05 16:52:16        -74.016048        40.711303   \n",
       "2              5.7 2011-08-18 00:35:00        -73.982738        40.761270   \n",
       "3              7.7 2012-04-21 04:30:42        -73.987130        40.733143   \n",
       "4              5.3 2010-03-09 07:51:00        -73.968095        40.768008   \n",
       "...            ...                 ...               ...              ...   \n",
       "16061         10.9 2009-05-20 18:56:42        -73.994191        40.751138   \n",
       "16062          6.5 2014-12-12 07:41:00        -74.008820        40.718757   \n",
       "16063         16.1 2009-07-13 07:58:00        -73.981310        40.781695   \n",
       "16064          8.5 2009-11-11 11:19:07        -73.972507        40.753417   \n",
       "16065          8.1 2010-05-11 23:53:00        -73.957027        40.765945   \n",
       "\n",
       "       dropoff_longitude  dropoff_latitude  passenger_count    year  month  \\\n",
       "0             -73.841610         40.712278              1.0  2009.0    6.0   \n",
       "1             -73.979268         40.782004              1.0  2010.0    1.0   \n",
       "2             -73.991242         40.750562              2.0  2011.0    8.0   \n",
       "3             -73.991567         40.758092              1.0  2012.0    4.0   \n",
       "4             -73.956655         40.783762              1.0  2010.0    3.0   \n",
       "...                  ...               ...              ...     ...    ...   \n",
       "16061         -73.962769         40.769719              1.0  2009.0    5.0   \n",
       "16062         -73.998865         40.719987              1.0  2014.0   12.0   \n",
       "16063         -74.014392         40.715527              2.0  2009.0    7.0   \n",
       "16064         -73.979577         40.765495              1.0  2009.0   11.0   \n",
       "16065         -73.981983         40.779560              1.0  2010.0    5.0   \n",
       "\n",
       "       Date  Day  Hour  Minute  distance  \n",
       "0      15.0  0.0  17.0    26.0  1.030764  \n",
       "1       5.0  1.0  16.0    52.0  8.450134  \n",
       "2      18.0  3.0   0.0    35.0  1.389525  \n",
       "3      21.0  5.0   4.0    30.0  2.799270  \n",
       "4       9.0  1.0   7.0    51.0  1.999157  \n",
       "...     ...  ...   ...     ...       ...  \n",
       "16061  20.0  2.0  18.0    56.0  3.357490  \n",
       "16062  12.0  4.0   7.0    41.0  0.850044  \n",
       "16063  13.0  0.0   7.0    58.0  7.867638  \n",
       "16064  11.0  2.0  11.0    19.0  1.469105  \n",
       "16065  11.0  1.0  23.0    53.0  2.590036  \n",
       "\n",
       "[15424 rows x 14 columns]"
      ]
     },
     "execution_count": 342,
     "metadata": {},
     "output_type": "execute_result"
    }
   ],
   "source": [
    "#we have splitted pickup_date time into year,month,day,hour,minute so it will be irrelevant ,we will be dropping it.\n",
    "#we have already calculated the distance using the pickup and dropoff latitude and longitude, so we will be dropping all those variable \n",
    "train\n"
   ]
  },
  {
   "cell_type": "code",
   "execution_count": 344,
   "id": "33744674-8a48-46ba-b669-96852de7607b",
   "metadata": {},
   "outputs": [],
   "source": [
    "drop_columns = [\"pickup_datetime\",\"pickup_longitude\",\"pickup_latitude\",\"dropoff_longitude\",\"dropoff_latitude\",\"Minute\"]\n",
    "train=train.drop(drop_columns, axis = 1)"
   ]
  },
  {
   "cell_type": "code",
   "execution_count": 346,
   "id": "5acc8615-96d5-4436-9108-2cfdbfb37cee",
   "metadata": {},
   "outputs": [
    {
     "data": {
      "text/html": [
       "<div>\n",
       "<style scoped>\n",
       "    .dataframe tbody tr th:only-of-type {\n",
       "        vertical-align: middle;\n",
       "    }\n",
       "\n",
       "    .dataframe tbody tr th {\n",
       "        vertical-align: top;\n",
       "    }\n",
       "\n",
       "    .dataframe thead th {\n",
       "        text-align: right;\n",
       "    }\n",
       "</style>\n",
       "<table border=\"1\" class=\"dataframe\">\n",
       "  <thead>\n",
       "    <tr style=\"text-align: right;\">\n",
       "      <th></th>\n",
       "      <th>fare_amount</th>\n",
       "      <th>passenger_count</th>\n",
       "      <th>year</th>\n",
       "      <th>month</th>\n",
       "      <th>Date</th>\n",
       "      <th>Day</th>\n",
       "      <th>Hour</th>\n",
       "      <th>distance</th>\n",
       "    </tr>\n",
       "  </thead>\n",
       "  <tbody>\n",
       "    <tr>\n",
       "      <th>0</th>\n",
       "      <td>4.5</td>\n",
       "      <td>1.0</td>\n",
       "      <td>2009.0</td>\n",
       "      <td>6.0</td>\n",
       "      <td>15.0</td>\n",
       "      <td>0.0</td>\n",
       "      <td>17.0</td>\n",
       "      <td>1.030764</td>\n",
       "    </tr>\n",
       "    <tr>\n",
       "      <th>1</th>\n",
       "      <td>16.9</td>\n",
       "      <td>1.0</td>\n",
       "      <td>2010.0</td>\n",
       "      <td>1.0</td>\n",
       "      <td>5.0</td>\n",
       "      <td>1.0</td>\n",
       "      <td>16.0</td>\n",
       "      <td>8.450134</td>\n",
       "    </tr>\n",
       "    <tr>\n",
       "      <th>2</th>\n",
       "      <td>5.7</td>\n",
       "      <td>2.0</td>\n",
       "      <td>2011.0</td>\n",
       "      <td>8.0</td>\n",
       "      <td>18.0</td>\n",
       "      <td>3.0</td>\n",
       "      <td>0.0</td>\n",
       "      <td>1.389525</td>\n",
       "    </tr>\n",
       "    <tr>\n",
       "      <th>3</th>\n",
       "      <td>7.7</td>\n",
       "      <td>1.0</td>\n",
       "      <td>2012.0</td>\n",
       "      <td>4.0</td>\n",
       "      <td>21.0</td>\n",
       "      <td>5.0</td>\n",
       "      <td>4.0</td>\n",
       "      <td>2.799270</td>\n",
       "    </tr>\n",
       "    <tr>\n",
       "      <th>4</th>\n",
       "      <td>5.3</td>\n",
       "      <td>1.0</td>\n",
       "      <td>2010.0</td>\n",
       "      <td>3.0</td>\n",
       "      <td>9.0</td>\n",
       "      <td>1.0</td>\n",
       "      <td>7.0</td>\n",
       "      <td>1.999157</td>\n",
       "    </tr>\n",
       "  </tbody>\n",
       "</table>\n",
       "</div>"
      ],
      "text/plain": [
       "   fare_amount  passenger_count    year  month  Date  Day  Hour  distance\n",
       "0          4.5              1.0  2009.0    6.0  15.0  0.0  17.0  1.030764\n",
       "1         16.9              1.0  2010.0    1.0   5.0  1.0  16.0  8.450134\n",
       "2          5.7              2.0  2011.0    8.0  18.0  3.0   0.0  1.389525\n",
       "3          7.7              1.0  2012.0    4.0  21.0  5.0   4.0  2.799270\n",
       "4          5.3              1.0  2010.0    3.0   9.0  1.0   7.0  1.999157"
      ]
     },
     "execution_count": 346,
     "metadata": {},
     "output_type": "execute_result"
    }
   ],
   "source": [
    "train.head()"
   ]
  },
  {
   "cell_type": "code",
   "execution_count": 348,
   "id": "daca044e-8fed-41c5-91e6-c06b795b92eb",
   "metadata": {},
   "outputs": [
    {
     "data": {
      "text/plain": [
       "fare_amount        float64\n",
       "passenger_count    float64\n",
       "year               float64\n",
       "month              float64\n",
       "Date               float64\n",
       "Day                float64\n",
       "Hour               float64\n",
       "distance           float64\n",
       "dtype: object"
      ]
     },
     "execution_count": 348,
     "metadata": {},
     "output_type": "execute_result"
    }
   ],
   "source": [
    "train.dtypes"
   ]
  },
  {
   "cell_type": "code",
   "execution_count": 350,
   "id": "6fc45c25-dd69-481a-8477-782c3a530adf",
   "metadata": {},
   "outputs": [
    {
     "data": {
      "text/plain": [
       "pickup_datetime      datetime64[ns]\n",
       "pickup_longitude            float64\n",
       "pickup_latitude             float64\n",
       "dropoff_longitude           float64\n",
       "dropoff_latitude            float64\n",
       "passenger_count               int64\n",
       "year                          int32\n",
       "month                         int32\n",
       "Date                          int32\n",
       "Day                           int32\n",
       "Hour                          int32\n",
       "Minute                        int32\n",
       "distance                    float64\n",
       "dtype: object"
      ]
     },
     "execution_count": 350,
     "metadata": {},
     "output_type": "execute_result"
    }
   ],
   "source": [
    "test.dtypes"
   ]
  },
  {
   "cell_type": "code",
   "execution_count": 352,
   "id": "46996177-aaa5-48d8-8fed-5432073352db",
   "metadata": {},
   "outputs": [],
   "source": [
    "drop_columns = [\"pickup_datetime\",\"pickup_latitude\",\"pickup_longitude\",\"dropoff_longitude\",\"dropoff_latitude\",\"Minute\"]\n",
    "test=test.drop(drop_columns, axis=1)"
   ]
  },
  {
   "cell_type": "code",
   "execution_count": 354,
   "id": "7dc29d5f-c700-44e0-862b-bc32e9feec62",
   "metadata": {},
   "outputs": [
    {
     "data": {
      "text/plain": [
       "passenger_count      int64\n",
       "year                 int32\n",
       "month                int32\n",
       "Date                 int32\n",
       "Day                  int32\n",
       "Hour                 int32\n",
       "distance           float64\n",
       "dtype: object"
      ]
     },
     "execution_count": 354,
     "metadata": {},
     "output_type": "execute_result"
    }
   ],
   "source": [
    "test.dtypes"
   ]
  },
  {
   "cell_type": "code",
   "execution_count": 356,
   "id": "a1a14b12-8414-4b3e-9e93-59966636d118",
   "metadata": {},
   "outputs": [],
   "source": [
    "#Converting variable of float datatype to int datatype\n",
    "train[\"passenger_count\"]  = train[\"passenger_count\"].astype('int64')\n",
    "train[\"year\"]  = train[\"year\"].astype('int64')\n",
    "train[\"month\"]  = train[\"month\"].astype('int64')\n",
    "train[\"Date\"]  = train[\"Date\"].astype('int64')\n",
    "train[\"Day\"]  = train[\"Day\"].astype('int64')\n",
    "train[\"Hour\"]  = train[\"Hour\"].astype('int64')\n"
   ]
  },
  {
   "cell_type": "code",
   "execution_count": 358,
   "id": "f5a91c38-c2da-40bc-b4a6-4d4b0839af83",
   "metadata": {},
   "outputs": [
    {
     "data": {
      "text/plain": [
       "fare_amount        float64\n",
       "passenger_count      int64\n",
       "year                 int64\n",
       "month                int64\n",
       "Date                 int64\n",
       "Day                  int64\n",
       "Hour                 int64\n",
       "distance           float64\n",
       "dtype: object"
      ]
     },
     "execution_count": 358,
     "metadata": {},
     "output_type": "execute_result"
    }
   ],
   "source": [
    "train.dtypes"
   ]
  },
  {
   "cell_type": "code",
   "execution_count": 360,
   "id": "354191fb-9d41-4964-bdbc-dcf3a1288d10",
   "metadata": {},
   "outputs": [
    {
     "data": {
      "text/html": [
       "<div>\n",
       "<style scoped>\n",
       "    .dataframe tbody tr th:only-of-type {\n",
       "        vertical-align: middle;\n",
       "    }\n",
       "\n",
       "    .dataframe tbody tr th {\n",
       "        vertical-align: top;\n",
       "    }\n",
       "\n",
       "    .dataframe thead th {\n",
       "        text-align: right;\n",
       "    }\n",
       "</style>\n",
       "<table border=\"1\" class=\"dataframe\">\n",
       "  <thead>\n",
       "    <tr style=\"text-align: right;\">\n",
       "      <th></th>\n",
       "      <th>fare_amount</th>\n",
       "      <th>passenger_count</th>\n",
       "      <th>year</th>\n",
       "      <th>month</th>\n",
       "      <th>Date</th>\n",
       "      <th>Day</th>\n",
       "      <th>Hour</th>\n",
       "      <th>distance</th>\n",
       "    </tr>\n",
       "  </thead>\n",
       "  <tbody>\n",
       "    <tr>\n",
       "      <th>0</th>\n",
       "      <td>4.5</td>\n",
       "      <td>1</td>\n",
       "      <td>2009</td>\n",
       "      <td>6</td>\n",
       "      <td>15</td>\n",
       "      <td>0</td>\n",
       "      <td>17</td>\n",
       "      <td>1.030764</td>\n",
       "    </tr>\n",
       "    <tr>\n",
       "      <th>1</th>\n",
       "      <td>16.9</td>\n",
       "      <td>1</td>\n",
       "      <td>2010</td>\n",
       "      <td>1</td>\n",
       "      <td>5</td>\n",
       "      <td>1</td>\n",
       "      <td>16</td>\n",
       "      <td>8.450134</td>\n",
       "    </tr>\n",
       "    <tr>\n",
       "      <th>2</th>\n",
       "      <td>5.7</td>\n",
       "      <td>2</td>\n",
       "      <td>2011</td>\n",
       "      <td>8</td>\n",
       "      <td>18</td>\n",
       "      <td>3</td>\n",
       "      <td>0</td>\n",
       "      <td>1.389525</td>\n",
       "    </tr>\n",
       "    <tr>\n",
       "      <th>3</th>\n",
       "      <td>7.7</td>\n",
       "      <td>1</td>\n",
       "      <td>2012</td>\n",
       "      <td>4</td>\n",
       "      <td>21</td>\n",
       "      <td>5</td>\n",
       "      <td>4</td>\n",
       "      <td>2.799270</td>\n",
       "    </tr>\n",
       "    <tr>\n",
       "      <th>4</th>\n",
       "      <td>5.3</td>\n",
       "      <td>1</td>\n",
       "      <td>2010</td>\n",
       "      <td>3</td>\n",
       "      <td>9</td>\n",
       "      <td>1</td>\n",
       "      <td>7</td>\n",
       "      <td>1.999157</td>\n",
       "    </tr>\n",
       "  </tbody>\n",
       "</table>\n",
       "</div>"
      ],
      "text/plain": [
       "   fare_amount  passenger_count  year  month  Date  Day  Hour  distance\n",
       "0          4.5                1  2009      6    15    0    17  1.030764\n",
       "1         16.9                1  2010      1     5    1    16  8.450134\n",
       "2          5.7                2  2011      8    18    3     0  1.389525\n",
       "3          7.7                1  2012      4    21    5     4  2.799270\n",
       "4          5.3                1  2010      3     9    1     7  1.999157"
      ]
     },
     "execution_count": 360,
     "metadata": {},
     "output_type": "execute_result"
    }
   ],
   "source": [
    "train.head()"
   ]
  },
  {
   "cell_type": "markdown",
   "id": "fd83bcfa-b307-45ea-ba6e-cbe6fb94c8dc",
   "metadata": {},
   "source": [
    "## Data Visualization:"
   ]
  },
  {
   "cell_type": "raw",
   "id": "c6d96ca6-1363-4f5d-be58-d536b9594958",
   "metadata": {},
   "source": [
    "Visualizing following things:\n",
    "1. Number of passengers affecting the fare\n",
    "2.Pickup date and time affecting the fare\n",
    "3.Day of the week affecting the fare\n",
    "4.Distance affecting the fare"
   ]
  },
  {
   "cell_type": "code",
   "execution_count": 363,
   "id": "80049701-501b-4284-bf0f-e298cc2d3153",
   "metadata": {},
   "outputs": [
    {
     "data": {
      "image/png": "[encoded data removed]",
      "text/plain": [
       "<Figure size 1500x700 with 1 Axes>"
      ]
     },
     "metadata": {},
     "output_type": "display_data"
    }
   ],
   "source": [
    "# Counting the number of passengers vs number of ride\n",
    "plt.figure(figsize = (15,7))\n",
    "sns.countplot(x = \"passenger_count\", data=train)\n",
    "plt.title(\"Number of Passengers vs. Number of Rides\")\n",
    "plt.show()"
   ]
  },
  {
   "cell_type": "code",
   "execution_count": 365,
   "id": "d1c58408-34df-48b0-99df-025c1a196226",
   "metadata": {},
   "outputs": [
    {
     "data": {
      "image/png": "[encoded data removed]",
      "text/plain": [
       "<Figure size 1500x700 with 1 Axes>"
      ]
     },
     "metadata": {},
     "output_type": "display_data"
    }
   ],
   "source": [
    "#Relationship between number of passengers and fare\n",
    "\n",
    "plt.figure(figsize = (15,7))\n",
    "plt.scatter(train['passenger_count'],train['fare_amount'], s=10)\n",
    "plt.xlabel('No. of passengers')\n",
    "plt.ylabel('Fare')\n",
    "plt.title('Relationship between Number of Passengers and Fare')\n",
    "plt.show()"
   ]
  },
  {
   "cell_type": "code",
   "execution_count": 367,
   "id": "400435cf-07ed-4e09-ab1b-7d35e9ed5fc1",
   "metadata": {},
   "outputs": [],
   "source": [
    "# single and double passenger rides had max. fare"
   ]
  },
  {
   "cell_type": "code",
   "execution_count": 369,
   "id": "45c994a5-369f-4bb1-8a7d-42af479bf4a7",
   "metadata": {},
   "outputs": [
    {
     "data": {
      "image/png": "[encoded data removed]",
      "text/plain": [
       "<Figure size 1500x700 with 1 Axes>"
      ]
     },
     "metadata": {},
     "output_type": "display_data"
    }
   ],
   "source": [
    "#Relationship between date and fare\n",
    "\n",
    "plt.figure(figsize = (15,7))\n",
    "plt.scatter(train['Date'],train['fare_amount'], c='g')\n",
    "plt.xlabel('Date')\n",
    "plt.ylabel('Fare')\n",
    "plt.title('Relationship between Date and Fare')\n",
    "plt.show()"
   ]
  },
  {
   "cell_type": "raw",
   "id": "d1a13645-2e71-40fb-910c-cc2fbfd670fb",
   "metadata": {},
   "source": [
    "# Fare is almost equal on all the days of months"
   ]
  },
  {
   "cell_type": "code",
   "execution_count": 371,
   "id": "a28462ca-204f-4f58-9afa-b0fb08d03836",
   "metadata": {},
   "outputs": [
    {
     "data": {
      "image/png": "[encoded data removed]",
      "text/plain": [
       "<Figure size 1500x700 with 1 Axes>"
      ]
     },
     "metadata": {},
     "output_type": "display_data"
    }
   ],
   "source": [
    "# Relationship between Hour of the Day and fare\n",
    "plt.figure(figsize = (15,7))\n",
    "train.groupby(train[\"Hour\"])[\"Hour\"].count().plot(kind=\"bar\")\n",
    "plt.show()"
   ]
  },
  {
   "cell_type": "code",
   "execution_count": 373,
   "id": "fb69ba59-985f-4450-a0b8-b6eefee813d7",
   "metadata": {},
   "outputs": [],
   "source": [
    "# Lowest number of cabs were around 5 AM and higest number was around 6-7 PM"
   ]
  },
  {
   "cell_type": "code",
   "execution_count": 375,
   "id": "899b0071-df2e-4d6f-93e2-f7ab8a9468ab",
   "metadata": {},
   "outputs": [
    {
     "data": {
      "image/png": "[encoded data removed]",
      "text/plain": [
       "<Figure size 1500x700 with 1 Axes>"
      ]
     },
     "metadata": {},
     "output_type": "display_data"
    }
   ],
   "source": [
    "#Relationship between Time and fare\n",
    "\n",
    "plt.figure(figsize = (15,7))\n",
    "plt.scatter(train['Hour'],train['fare_amount'], s=10)\n",
    "plt.xlabel('Hour')\n",
    "plt.ylabel('Fare')\n",
    "plt.title('Relationship between Time and Fare')\n",
    "plt.show()"
   ]
  },
  {
   "cell_type": "raw",
   "id": "d81a961a-33b4-44f0-a0ae-591f12d3c60a",
   "metadata": {},
   "source": [
    "# The fare is higest around 7AM and 11PM i.e early morning and late night"
   ]
  },
  {
   "cell_type": "code",
   "execution_count": 377,
   "id": "7d3c4955-2435-4ddf-8efd-a49be835bc8d",
   "metadata": {},
   "outputs": [
    {
     "data": {
      "text/plain": [
       "Text(0.5, 1.0, 'Relationship between Day and Fare_amount')"
      ]
     },
     "execution_count": 377,
     "metadata": {},
     "output_type": "execute_result"
    },
    {
     "data": {
      "image/png": "[encoded data removed]",
      "text/plain": [
       "<Figure size 1500x700 with 1 Axes>"
      ]
     },
     "metadata": {},
     "output_type": "display_data"
    }
   ],
   "source": [
    "# Impact of the day on the fare of the cab\n",
    "\n",
    "plt.figure(figsize = (15,7))\n",
    "sns.countplot(x = \"Day\", data=train)\n",
    "plt.title('Relationship between Day and Fare_amount')"
   ]
  },
  {
   "cell_type": "code",
   "execution_count": 379,
   "id": "cd7028a9-59f8-4ecd-80b1-230ec40af43f",
   "metadata": {},
   "outputs": [
    {
     "data": {
      "image/png": "[encoded data removed]",
      "text/plain": [
       "<Figure size 1500x700 with 1 Axes>"
      ]
     },
     "metadata": {},
     "output_type": "display_data"
    }
   ],
   "source": [
    "# Relationship between day of week and fare\n",
    "plt.figure(figsize = (15,7))\n",
    "plt.scatter(train['Day'],train['fare_amount'], s=10)\n",
    "plt.xlabel('Hour')\n",
    "plt.ylabel('Fare')\n",
    "plt.title('Relationship between Day of the week and Fare')\n",
    "plt.show()"
   ]
  },
  {
   "cell_type": "raw",
   "id": "6cabc2cd-fbe4-4392-8b3c-a1d065065d19",
   "metadata": {},
   "source": [
    "# Cab fare was higest on Sunday, Monday and Thursday while it was lowest on Saturday because no. of rides were less"
   ]
  },
  {
   "cell_type": "code",
   "execution_count": 381,
   "id": "277e4db9-76b2-4881-b8e4-38693d65eb70",
   "metadata": {},
   "outputs": [
    {
     "data": {
      "image/png": "[encoded data removed]",
      "text/plain": [
       "<Figure size 1500x700 with 1 Axes>"
      ]
     },
     "metadata": {},
     "output_type": "display_data"
    }
   ],
   "source": [
    "# Relationship between Distance and fare\n",
    "plt.figure(figsize = (15,7))\n",
    "plt.scatter(train['distance'], train['fare_amount'], c ='g')\n",
    "plt.xlabel('Distance')\n",
    "plt.ylabel('Fare')\n",
    "plt.title('Relationship between Distance and Fare')\n",
    "plt.show()"
   ]
  },
  {
   "cell_type": "code",
   "execution_count": 383,
   "id": "081f0388-4da3-45ef-aa1c-61e8141817fb",
   "metadata": {},
   "outputs": [],
   "source": [
    "# We conclude that distance is directly proportional to fare"
   ]
  },
  {
   "cell_type": "code",
   "execution_count": 385,
   "id": "838006d8-1a5c-4825-8967-c669f798cfbc",
   "metadata": {},
   "outputs": [
    {
     "name": "stdout",
     "output_type": "stream",
     "text": [
      "fare_amount\n"
     ]
    },
    {
     "name": "stderr",
     "output_type": "stream",
     "text": [
      "C:\\Users\\Gaikwad\\AppData\\Local\\Temp\\ipykernel_23340\\1718151091.py:5: UserWarning: \n",
      "\n",
      "`distplot` is a deprecated function and will be removed in seaborn v0.14.0.\n",
      "\n",
      "Please adapt your code to use either `displot` (a figure-level function with\n",
      "similar flexibility) or `histplot` (an axes-level function for histograms).\n",
      "\n",
      "For a guide to updating your code to use the new functions, please see\n",
      "https://gist.github.com/mwaskom/de44147ed2974457ad6372750bbe5751\n",
      "\n",
      "  sns.distplot(train[i],bins = 'auto', color= 'green')\n"
     ]
    },
    {
     "data": {
      "image/png": "[encoded data removed]",
      "text/plain": [
       "<Figure size 640x480 with 1 Axes>"
      ]
     },
     "metadata": {},
     "output_type": "display_data"
    },
    {
     "name": "stdout",
     "output_type": "stream",
     "text": [
      "distance\n"
     ]
    },
    {
     "name": "stderr",
     "output_type": "stream",
     "text": [
      "C:\\Users\\Gaikwad\\AppData\\Local\\Temp\\ipykernel_23340\\1718151091.py:5: UserWarning: \n",
      "\n",
      "`distplot` is a deprecated function and will be removed in seaborn v0.14.0.\n",
      "\n",
      "Please adapt your code to use either `displot` (a figure-level function with\n",
      "similar flexibility) or `histplot` (an axes-level function for histograms).\n",
      "\n",
      "For a guide to updating your code to use the new functions, please see\n",
      "https://gist.github.com/mwaskom/de44147ed2974457ad6372750bbe5751\n",
      "\n",
      "  sns.distplot(train[i],bins = 'auto', color= 'green')\n"
     ]
    },
    {
     "data": {
      "image/png": "[encoded data removed]",
      "text/plain": [
       "<Figure size 640x480 with 1 Axes>"
      ]
     },
     "metadata": {},
     "output_type": "display_data"
    }
   ],
   "source": [
    "# Normality check for training data for cab fare and distance\n",
    "\n",
    "for i in ['fare_amount','distance']:\n",
    "    print(i)\n",
    "    sns.distplot(train[i],bins = 'auto', color= 'green')\n",
    "    plt.title('Distributoin for variable ' + i )\n",
    "    plt.ylabel('Density')\n",
    "    plt.show()"
   ]
  },
  {
   "cell_type": "code",
   "execution_count": 387,
   "id": "eeb0f2ef-9c50-47bd-8319-5b31078a10d5",
   "metadata": {},
   "outputs": [],
   "source": [
    "# Since skewness of variable is very high apply log transformation to fare_amount , distance to reduce skewness\n",
    "train['fare_amount']= np.log1p(train['fare_amount'])\n",
    "train['distance']= np.log1p(train['distance'])\n"
   ]
  },
  {
   "cell_type": "code",
   "execution_count": 389,
   "id": "2768e9a0-88b4-4a43-97e2-8f564a9e8b49",
   "metadata": {},
   "outputs": [
    {
     "name": "stdout",
     "output_type": "stream",
     "text": [
      "fare_amount\n"
     ]
    },
    {
     "name": "stderr",
     "output_type": "stream",
     "text": [
      "C:\\Users\\Gaikwad\\AppData\\Local\\Temp\\ipykernel_23340\\2923281304.py:5: UserWarning: \n",
      "\n",
      "`distplot` is a deprecated function and will be removed in seaborn v0.14.0.\n",
      "\n",
      "Please adapt your code to use either `displot` (a figure-level function with\n",
      "similar flexibility) or `histplot` (an axes-level function for histograms).\n",
      "\n",
      "For a guide to updating your code to use the new functions, please see\n",
      "https://gist.github.com/mwaskom/de44147ed2974457ad6372750bbe5751\n",
      "\n",
      "  sns.distplot(train[i],bins = 'auto', color= 'green')\n"
     ]
    },
    {
     "data": {
      "image/png": "[encoded data removed]",
      "text/plain": [
       "<Figure size 640x480 with 1 Axes>"
      ]
     },
     "metadata": {},
     "output_type": "display_data"
    },
    {
     "name": "stdout",
     "output_type": "stream",
     "text": [
      "distance\n"
     ]
    },
    {
     "name": "stderr",
     "output_type": "stream",
     "text": [
      "C:\\Users\\Gaikwad\\AppData\\Local\\Temp\\ipykernel_23340\\2923281304.py:5: UserWarning: \n",
      "\n",
      "`distplot` is a deprecated function and will be removed in seaborn v0.14.0.\n",
      "\n",
      "Please adapt your code to use either `displot` (a figure-level function with\n",
      "similar flexibility) or `histplot` (an axes-level function for histograms).\n",
      "\n",
      "For a guide to updating your code to use the new functions, please see\n",
      "https://gist.github.com/mwaskom/de44147ed2974457ad6372750bbe5751\n",
      "\n",
      "  sns.distplot(train[i],bins = 'auto', color= 'green')\n"
     ]
    },
    {
     "data": {
      "image/png": "[encoded data removed]",
      "text/plain": [
       "<Figure size 640x480 with 1 Axes>"
      ]
     },
     "metadata": {},
     "output_type": "display_data"
    }
   ],
   "source": [
    "# Normality re-check for train data is uniformaly distributed or not\n",
    "\n",
    "for i in ['fare_amount','distance']:\n",
    "    print(i)\n",
    "    sns.distplot(train[i],bins = 'auto', color= 'green')\n",
    "    plt.title('Distributoin for variable' + i )\n",
    "    plt.ylabel('Density')\n",
    "    plt.show()"
   ]
  },
  {
   "cell_type": "code",
   "execution_count": 391,
   "id": "3865971a-8f7c-4a95-847d-4f2a15a0ff10",
   "metadata": {},
   "outputs": [
    {
     "name": "stdout",
     "output_type": "stream",
     "text": [
      "distance\n"
     ]
    },
    {
     "name": "stderr",
     "output_type": "stream",
     "text": [
      "C:\\Users\\Gaikwad\\AppData\\Local\\Temp\\ipykernel_23340\\1612986027.py:5: UserWarning: \n",
      "\n",
      "`distplot` is a deprecated function and will be removed in seaborn v0.14.0.\n",
      "\n",
      "Please adapt your code to use either `displot` (a figure-level function with\n",
      "similar flexibility) or `histplot` (an axes-level function for histograms).\n",
      "\n",
      "For a guide to updating your code to use the new functions, please see\n",
      "https://gist.github.com/mwaskom/de44147ed2974457ad6372750bbe5751\n",
      "\n",
      "  sns.distplot(test[i],bins = 'auto', color= 'green')\n"
     ]
    },
    {
     "data": {
      "image/png": "[encoded data removed]",
      "text/plain": [
       "<Figure size 640x480 with 1 Axes>"
      ]
     },
     "metadata": {},
     "output_type": "display_data"
    }
   ],
   "source": [
    "# Normality re-check for test data is uniformaly distributed or not\n",
    "\n",
    "for i in ['distance']:\n",
    "    print(i)\n",
    "    sns.distplot(test[i],bins = 'auto', color= 'green')\n",
    "    plt.title('Distributoin for variable ' + i )\n",
    "    plt.ylabel('Density')\n",
    "    plt.show()"
   ]
  },
  {
   "cell_type": "code",
   "execution_count": 393,
   "id": "95d1cd04-4935-4710-8042-b213d490e2f3",
   "metadata": {},
   "outputs": [],
   "source": [
    "# Since skewness of variable is very high apply log transformation.\n",
    "test['distance']= np.log1p(test['distance'])"
   ]
  },
  {
   "cell_type": "code",
   "execution_count": 395,
   "id": "18fd9e32-5ebf-4136-9ef6-e3dd21fbabed",
   "metadata": {},
   "outputs": [
    {
     "name": "stdout",
     "output_type": "stream",
     "text": [
      "distance\n"
     ]
    },
    {
     "name": "stderr",
     "output_type": "stream",
     "text": [
      "C:\\Users\\Gaikwad\\AppData\\Local\\Temp\\ipykernel_23340\\2948362390.py:5: UserWarning: \n",
      "\n",
      "`distplot` is a deprecated function and will be removed in seaborn v0.14.0.\n",
      "\n",
      "Please adapt your code to use either `displot` (a figure-level function with\n",
      "similar flexibility) or `histplot` (an axes-level function for histograms).\n",
      "\n",
      "For a guide to updating your code to use the new functions, please see\n",
      "https://gist.github.com/mwaskom/de44147ed2974457ad6372750bbe5751\n",
      "\n",
      "  sns.distplot(test[i],bins = 'auto', color= 'green')\n"
     ]
    },
    {
     "data": {
      "image/png": "[encoded data removed]",
      "text/plain": [
       "<Figure size 640x480 with 1 Axes>"
      ]
     },
     "metadata": {},
     "output_type": "display_data"
    }
   ],
   "source": [
    "# Normality re-check for test data is uniformaly distributed or not\n",
    "\n",
    "for i in ['distance']:\n",
    "    print(i)\n",
    "    sns.distplot(test[i],bins = 'auto', color= 'green')\n",
    "    plt.title('Distributoin for variable' + i )\n",
    "    plt.ylabel('Density')\n",
    "    plt.show()"
   ]
  },
  {
   "cell_type": "code",
   "execution_count": 397,
   "id": "ad517c1b-1dd7-4e87-9335-6303c4d2e399",
   "metadata": {},
   "outputs": [],
   "source": [
    "# After applying the log transformation the skewed data has already converted into normal distribution there is no need of standardization and \n",
    "# normalization. We have already got Bell curve ."
   ]
  },
  {
   "cell_type": "markdown",
   "id": "fd75ffb3-b0c3-45ab-a09c-c2ba896b2d2d",
   "metadata": {},
   "source": [
    "## Data Modelling Applying ML Algorithm"
   ]
  },
  {
   "cell_type": "code",
   "execution_count": 400,
   "id": "dbdf9909-65aa-4a17-824d-27f82dfdc542",
   "metadata": {},
   "outputs": [],
   "source": [
    "# Applying train test split on dataset\n",
    "X_train, X_test, y_train, y_test = train_test_split(train.iloc[:, train.columns != 'fare_amount'], train.iloc[:,0], test_size = 0.20, random_state = 1)"
   ]
  },
  {
   "cell_type": "code",
   "execution_count": 402,
   "id": "e8707b06-2ffe-4b11-b038-d941e00003bb",
   "metadata": {},
   "outputs": [
    {
     "data": {
      "text/html": [
       "<div>\n",
       "<style scoped>\n",
       "    .dataframe tbody tr th:only-of-type {\n",
       "        vertical-align: middle;\n",
       "    }\n",
       "\n",
       "    .dataframe tbody tr th {\n",
       "        vertical-align: top;\n",
       "    }\n",
       "\n",
       "    .dataframe thead th {\n",
       "        text-align: right;\n",
       "    }\n",
       "</style>\n",
       "<table border=\"1\" class=\"dataframe\">\n",
       "  <thead>\n",
       "    <tr style=\"text-align: right;\">\n",
       "      <th></th>\n",
       "      <th>passenger_count</th>\n",
       "      <th>year</th>\n",
       "      <th>month</th>\n",
       "      <th>Date</th>\n",
       "      <th>Day</th>\n",
       "      <th>Hour</th>\n",
       "      <th>distance</th>\n",
       "    </tr>\n",
       "  </thead>\n",
       "  <tbody>\n",
       "    <tr>\n",
       "      <th>7690</th>\n",
       "      <td>2</td>\n",
       "      <td>2012</td>\n",
       "      <td>5</td>\n",
       "      <td>16</td>\n",
       "      <td>2</td>\n",
       "      <td>6</td>\n",
       "      <td>1.691253</td>\n",
       "    </tr>\n",
       "    <tr>\n",
       "      <th>13018</th>\n",
       "      <td>1</td>\n",
       "      <td>2014</td>\n",
       "      <td>7</td>\n",
       "      <td>11</td>\n",
       "      <td>4</td>\n",
       "      <td>10</td>\n",
       "      <td>0.828231</td>\n",
       "    </tr>\n",
       "    <tr>\n",
       "      <th>12950</th>\n",
       "      <td>3</td>\n",
       "      <td>2009</td>\n",
       "      <td>6</td>\n",
       "      <td>27</td>\n",
       "      <td>5</td>\n",
       "      <td>17</td>\n",
       "      <td>0.980620</td>\n",
       "    </tr>\n",
       "    <tr>\n",
       "      <th>14009</th>\n",
       "      <td>1</td>\n",
       "      <td>2009</td>\n",
       "      <td>6</td>\n",
       "      <td>12</td>\n",
       "      <td>4</td>\n",
       "      <td>15</td>\n",
       "      <td>0.534072</td>\n",
       "    </tr>\n",
       "    <tr>\n",
       "      <th>2816</th>\n",
       "      <td>5</td>\n",
       "      <td>2013</td>\n",
       "      <td>5</td>\n",
       "      <td>18</td>\n",
       "      <td>5</td>\n",
       "      <td>20</td>\n",
       "      <td>1.141300</td>\n",
       "    </tr>\n",
       "    <tr>\n",
       "      <th>...</th>\n",
       "      <td>...</td>\n",
       "      <td>...</td>\n",
       "      <td>...</td>\n",
       "      <td>...</td>\n",
       "      <td>...</td>\n",
       "      <td>...</td>\n",
       "      <td>...</td>\n",
       "    </tr>\n",
       "    <tr>\n",
       "      <th>994</th>\n",
       "      <td>1</td>\n",
       "      <td>2009</td>\n",
       "      <td>3</td>\n",
       "      <td>24</td>\n",
       "      <td>1</td>\n",
       "      <td>11</td>\n",
       "      <td>1.465260</td>\n",
       "    </tr>\n",
       "    <tr>\n",
       "      <th>5454</th>\n",
       "      <td>1</td>\n",
       "      <td>2014</td>\n",
       "      <td>1</td>\n",
       "      <td>11</td>\n",
       "      <td>5</td>\n",
       "      <td>18</td>\n",
       "      <td>0.666875</td>\n",
       "    </tr>\n",
       "    <tr>\n",
       "      <th>12682</th>\n",
       "      <td>6</td>\n",
       "      <td>2014</td>\n",
       "      <td>1</td>\n",
       "      <td>7</td>\n",
       "      <td>1</td>\n",
       "      <td>9</td>\n",
       "      <td>1.437090</td>\n",
       "    </tr>\n",
       "    <tr>\n",
       "      <th>259</th>\n",
       "      <td>1</td>\n",
       "      <td>2013</td>\n",
       "      <td>5</td>\n",
       "      <td>2</td>\n",
       "      <td>3</td>\n",
       "      <td>3</td>\n",
       "      <td>0.803939</td>\n",
       "    </tr>\n",
       "    <tr>\n",
       "      <th>13919</th>\n",
       "      <td>1</td>\n",
       "      <td>2012</td>\n",
       "      <td>3</td>\n",
       "      <td>20</td>\n",
       "      <td>1</td>\n",
       "      <td>16</td>\n",
       "      <td>2.365173</td>\n",
       "    </tr>\n",
       "  </tbody>\n",
       "</table>\n",
       "<p>12339 rows × 7 columns</p>\n",
       "</div>"
      ],
      "text/plain": [
       "       passenger_count  year  month  Date  Day  Hour  distance\n",
       "7690                 2  2012      5    16    2     6  1.691253\n",
       "13018                1  2014      7    11    4    10  0.828231\n",
       "12950                3  2009      6    27    5    17  0.980620\n",
       "14009                1  2009      6    12    4    15  0.534072\n",
       "2816                 5  2013      5    18    5    20  1.141300\n",
       "...                ...   ...    ...   ...  ...   ...       ...\n",
       "994                  1  2009      3    24    1    11  1.465260\n",
       "5454                 1  2014      1    11    5    18  0.666875\n",
       "12682                6  2014      1     7    1     9  1.437090\n",
       "259                  1  2013      5     2    3     3  0.803939\n",
       "13919                1  2012      3    20    1    16  2.365173\n",
       "\n",
       "[12339 rows x 7 columns]"
      ]
     },
     "execution_count": 402,
     "metadata": {},
     "output_type": "execute_result"
    }
   ],
   "source": [
    "X_train"
   ]
  },
  {
   "cell_type": "code",
   "execution_count": 404,
   "id": "225be43a-be7c-4fa3-a5db-44ed220a82cb",
   "metadata": {},
   "outputs": [
    {
     "data": {
      "text/plain": [
       "7690     2.370244\n",
       "13018    2.014903\n",
       "12950    2.014903\n",
       "14009    1.629241\n",
       "2816     2.890372\n",
       "           ...   \n",
       "994      2.687847\n",
       "5454     1.704748\n",
       "12682    2.917771\n",
       "259      1.945910\n",
       "13919    3.462606\n",
       "Name: fare_amount, Length: 12339, dtype: float64"
      ]
     },
     "execution_count": 404,
     "metadata": {},
     "output_type": "execute_result"
    }
   ],
   "source": [
    "y_train"
   ]
  },
  {
   "cell_type": "code",
   "execution_count": 406,
   "id": "fb69ef30-fe42-4fb8-aed7-eadb38d8f0ef",
   "metadata": {},
   "outputs": [
    {
     "name": "stdout",
     "output_type": "stream",
     "text": [
      "(12339, 7)\n",
      "(12339,)\n"
     ]
    }
   ],
   "source": [
    "print(X_train.shape)\n",
    "print(y_train.shape)"
   ]
  },
  {
   "cell_type": "code",
   "execution_count": 408,
   "id": "d7e070c3-9641-46b7-8395-ddbfde0df1b7",
   "metadata": {},
   "outputs": [
    {
     "name": "stdout",
     "output_type": "stream",
     "text": [
      "(3085, 7)\n",
      "(3085,)\n"
     ]
    }
   ],
   "source": [
    "print(X_test.shape)\n",
    "print(y_test.shape)"
   ]
  },
  {
   "cell_type": "code",
   "execution_count": 410,
   "id": "c17a47e1-acb0-4d77-b125-8c44658c7aab",
   "metadata": {},
   "outputs": [
    {
     "data": {
      "text/plain": [
       "pandas.core.series.Series"
      ]
     },
     "execution_count": 410,
     "metadata": {},
     "output_type": "execute_result"
    }
   ],
   "source": [
    "type(y_train)"
   ]
  },
  {
   "cell_type": "markdown",
   "id": "41395e75-652e-4139-a344-09dc1746dba9",
   "metadata": {},
   "source": [
    "## Liner Regression "
   ]
  },
  {
   "cell_type": "code",
   "execution_count": 413,
   "id": "64fdcd75-7072-45e2-80d6-20b715ed38c5",
   "metadata": {},
   "outputs": [],
   "source": [
    "# Building a Module on train dataset\n",
    "fit_LR = LinearRegression().fit(X_train, y_train)"
   ]
  },
  {
   "cell_type": "code",
   "execution_count": 415,
   "id": "34f475c2-8722-46c1-91d4-ce1420d4ab9b",
   "metadata": {},
   "outputs": [],
   "source": [
    "# Prediction on train dataset\n",
    "pred_train_LR = fit_LR.predict(X_train)"
   ]
  },
  {
   "cell_type": "code",
   "execution_count": 417,
   "id": "c4995630-9891-4e6b-acde-de981b3a9e95",
   "metadata": {},
   "outputs": [],
   "source": [
    "# Prediction on test dataset\n",
    "pred_test_LR = fit_LR.predict(X_test)"
   ]
  },
  {
   "cell_type": "code",
   "execution_count": 419,
   "id": "3ddf7681-90da-4f8c-97af-cdf2a93323f8",
   "metadata": {},
   "outputs": [],
   "source": [
    "# Calculate RMSE for test dataset"
   ]
  },
  {
   "cell_type": "code",
   "execution_count": 421,
   "id": "11615002-92cb-4147-9f78-ef2db806b305",
   "metadata": {},
   "outputs": [],
   "source": [
    "##Calculating RMSE for test data\n",
    "RMSE_test_LR = np.sqrt(mean_squared_error(y_test,pred_test_LR))\n",
    "\n",
    "##Calculating RMSE for train data\n",
    "RMSE_train_LR = np.sqrt(mean_squared_error(y_train,pred_train_LR))"
   ]
  },
  {
   "cell_type": "code",
   "execution_count": 423,
   "id": "18e64710-a7f3-4169-80b4-8b78548e27b5",
   "metadata": {},
   "outputs": [
    {
     "name": "stdout",
     "output_type": "stream",
     "text": [
      "Root Mean Squared Error for Training data= 0.2753110017967311\n",
      "Root Mean Squared Error for Test data0.2454066178697766\n"
     ]
    }
   ],
   "source": [
    "print(\"Root Mean Squared Error for Training data= \"+str(RMSE_train_LR))\n",
    "print(\"Root Mean Squared Error for Test data\"+ str (RMSE_test_LR))"
   ]
  },
  {
   "cell_type": "code",
   "execution_count": 425,
   "id": "729bd942-f226-432b-a65e-dd86dd84db4b",
   "metadata": {},
   "outputs": [
    {
     "data": {
      "text/plain": [
       "0.749550265188041"
      ]
     },
     "execution_count": 425,
     "metadata": {},
     "output_type": "execute_result"
    }
   ],
   "source": [
    "# Calculate R^2 for train data\n",
    "\n",
    "from sklearn.metrics import r2_score\n",
    "r2_score(y_train, pred_train_LR)"
   ]
  },
  {
   "cell_type": "code",
   "execution_count": 427,
   "id": "6f9cbf7a-f73c-49d8-a32d-9f10ee5de13c",
   "metadata": {},
   "outputs": [
    {
     "data": {
      "text/plain": [
       "0.7827019104296612"
      ]
     },
     "execution_count": 427,
     "metadata": {},
     "output_type": "execute_result"
    }
   ],
   "source": [
    "r2_score(y_test, pred_test_LR)"
   ]
  },
  {
   "cell_type": "markdown",
   "id": "6dd2d869-f69a-45a2-931f-c4b0153ad036",
   "metadata": {},
   "source": [
    "## Decision Tree Model"
   ]
  },
  {
   "cell_type": "code",
   "execution_count": 430,
   "id": "e3adf1d9-db8b-4a74-99bd-c535f5ee2f95",
   "metadata": {},
   "outputs": [],
   "source": [
    "fit_DT = DecisionTreeRegressor(max_depth = 2).fit(X_train, y_train)"
   ]
  },
  {
   "cell_type": "code",
   "execution_count": 432,
   "id": "d4a5b5f9-1309-4309-a625-4e41db9a9bda",
   "metadata": {},
   "outputs": [],
   "source": [
    "#prediction on train data\n",
    "pred_train_DT = fit_DT.predict(X_train)\n",
    "\n",
    "#prediction on test data\n",
    "pred_test_DT = fit_DT.predict(X_test)\n"
   ]
  },
  {
   "cell_type": "code",
   "execution_count": 434,
   "id": "1e605aa5-0f5d-4fac-895d-4b0c1bd61b00",
   "metadata": {},
   "outputs": [],
   "source": [
    "## Calculating RMSE for train data \n",
    "RMSE_train_DT = np.sqrt(mean_squared_error(y_train, pred_train_DT))\n",
    "\n",
    "## Calculating RMSE for test data \n",
    "RMSE_test_DT = np.sqrt(mean_squared_error(y_test, pred_test_DT))"
   ]
  },
  {
   "cell_type": "code",
   "execution_count": 436,
   "id": "538647b6-2f22-43b0-8018-e12f161e4564",
   "metadata": {},
   "outputs": [
    {
     "name": "stdout",
     "output_type": "stream",
     "text": [
      "Root Mean Squared Error for Training data= 0.29962109020770195\n",
      "Root Mean Squared Error for Test data0.2867460617158617\n"
     ]
    }
   ],
   "source": [
    "print(\"Root Mean Squared Error for Training data= \"+str(RMSE_train_DT))\n",
    "print(\"Root Mean Squared Error for Test data\"+ str (RMSE_test_DT))"
   ]
  },
  {
   "cell_type": "code",
   "execution_count": 438,
   "id": "f298e3b9-6c1c-4e0a-8b5f-ac8b2a862bfd",
   "metadata": {},
   "outputs": [
    {
     "data": {
      "text/plain": [
       "0.7033678616157002"
      ]
     },
     "execution_count": 438,
     "metadata": {},
     "output_type": "execute_result"
    }
   ],
   "source": [
    "# Calculate R^2 for train data\n",
    "\n",
    "from sklearn.metrics import r2_score\n",
    "r2_score(y_train, pred_train_DT)"
   ]
  },
  {
   "cell_type": "code",
   "execution_count": 440,
   "id": "b0515d91-4589-43f6-996b-e1bd4fa2f295",
   "metadata": {},
   "outputs": [
    {
     "data": {
      "text/plain": [
       "0.7033268167661033"
      ]
     },
     "execution_count": 440,
     "metadata": {},
     "output_type": "execute_result"
    }
   ],
   "source": [
    "r2_score(y_test, pred_test_DT)"
   ]
  },
  {
   "cell_type": "markdown",
   "id": "6eab8158-61bc-4619-9367-97024eed7553",
   "metadata": {},
   "source": [
    "## Random forest model : "
   ]
  },
  {
   "cell_type": "code",
   "execution_count": 443,
   "id": "bf518ac3-ad15-40e4-a2ae-07d8c87f9b43",
   "metadata": {},
   "outputs": [],
   "source": [
    "fit_RF = RandomForestRegressor(n_estimators = 200).fit(X_train, y_train)"
   ]
  },
  {
   "cell_type": "code",
   "execution_count": 445,
   "id": "bdf09e5e-0d33-4988-8646-ef303c917e66",
   "metadata": {},
   "outputs": [],
   "source": [
    "#prediction on train data\n",
    "pred_train_RF = fit_RF.predict(X_train)\n",
    "#prediction on test data\n",
    "pred_test_RF = fit_RF.predict(X_test)"
   ]
  },
  {
   "cell_type": "code",
   "execution_count": 447,
   "id": "a15d67f8-68b1-4b55-85a9-ee395b421b93",
   "metadata": {},
   "outputs": [],
   "source": [
    "## calculating RMSE for train data\n",
    "RMSE_train_RF = np.sqrt(mean_squared_error(y_train,pred_train_RF))\n",
    "## calculating RMSE for test data\n",
    "RMSE_test_RF = np.sqrt(mean_squared_error(y_test,pred_test_RF))"
   ]
  },
  {
   "cell_type": "code",
   "execution_count": 449,
   "id": "4f2889ab-48be-48ab-b152-a3ead9113f38",
   "metadata": {},
   "outputs": [
    {
     "name": "stdout",
     "output_type": "stream",
     "text": [
      "Root Mean Squared Error for Training data= 0.09570973242991399\n",
      "Root Mean Squared Error for Test data0.2352400295081758\n"
     ]
    }
   ],
   "source": [
    "print(\"Root Mean Squared Error for Training data= \"+str(RMSE_train_RF))\n",
    "print(\"Root Mean Squared Error for Test data\"+ str (RMSE_test_RF))"
   ]
  },
  {
   "cell_type": "code",
   "execution_count": 451,
   "id": "57fad7e9-a15c-4119-847a-31ca4109623b",
   "metadata": {},
   "outputs": [
    {
     "data": {
      "text/plain": [
       "0.9697318660731903"
      ]
     },
     "execution_count": 451,
     "metadata": {},
     "output_type": "execute_result"
    }
   ],
   "source": [
    "# Calculate R^2 for train data\n",
    "\n",
    "from sklearn.metrics import r2_score\n",
    "r2_score(y_train, pred_train_RF)"
   ]
  },
  {
   "cell_type": "code",
   "execution_count": 453,
   "id": "f0162220-7143-4a35-8f6b-d627d6e38742",
   "metadata": {},
   "outputs": [
    {
     "data": {
      "text/plain": [
       "0.8003332181310716"
      ]
     },
     "execution_count": 453,
     "metadata": {},
     "output_type": "execute_result"
    }
   ],
   "source": [
    "r2_score(y_test, pred_test_RF)"
   ]
  },
  {
   "cell_type": "markdown",
   "id": "2d4bc722-2d17-4327-953b-6d8d1ff1d5f7",
   "metadata": {},
   "source": [
    "## Gradient Boosting"
   ]
  },
  {
   "cell_type": "code",
   "execution_count": 456,
   "id": "edab7cc3-6bb9-4ce7-a497-67ce52b483d3",
   "metadata": {},
   "outputs": [],
   "source": [
    "fit_GB = GradientBoostingRegressor().fit(X_train, y_train)"
   ]
  },
  {
   "cell_type": "code",
   "execution_count": 458,
   "id": "932e4b8c-3901-49fe-a29f-fa07bb80287f",
   "metadata": {},
   "outputs": [],
   "source": [
    "#prediction on train data\n",
    "pred_train_GB = fit_GB.predict(X_train)\n",
    "#prediction on test data\n",
    "pred_test_GB = fit_GB.predict(X_test)"
   ]
  },
  {
   "cell_type": "code",
   "execution_count": 460,
   "id": "a5fed58b-ea8f-424d-9caa-1f6b450b9adc",
   "metadata": {},
   "outputs": [],
   "source": [
    "## calculating RMSE for train data\n",
    "RMSE_train_GB = np.sqrt(mean_squared_error(y_train,pred_train_GB))\n",
    "## calculating RMSE for test data\n",
    "RMSE_test_GB = np.sqrt(mean_squared_error(y_test,pred_test_GB))"
   ]
  },
  {
   "cell_type": "code",
   "execution_count": 462,
   "id": "635fdf04-1f76-43a4-920e-5f66f5eb5ac4",
   "metadata": {},
   "outputs": [
    {
     "name": "stdout",
     "output_type": "stream",
     "text": [
      "Root Mean Squared Error for Training data= 0.22754316149645537\n",
      "Root Mean Squared Error for Test data0.2273761106401373\n"
     ]
    }
   ],
   "source": [
    "print(\"Root Mean Squared Error for Training data= \"+str(RMSE_train_GB))\n",
    "print(\"Root Mean Squared Error for Test data\"+ str (RMSE_test_GB))"
   ]
  },
  {
   "cell_type": "code",
   "execution_count": 464,
   "id": "8e323295-9978-4937-88bb-b9893928435d",
   "metadata": {},
   "outputs": [
    {
     "data": {
      "text/plain": [
       "0.8289193000175024"
      ]
     },
     "execution_count": 464,
     "metadata": {},
     "output_type": "execute_result"
    }
   ],
   "source": [
    "# Calculate R^2 for train data\n",
    "\n",
    "from sklearn.metrics import r2_score\n",
    "r2_score(y_train, pred_train_GB)"
   ]
  },
  {
   "cell_type": "code",
   "execution_count": 466,
   "id": "69df2992-50ab-40e2-9d7b-faabea208f1f",
   "metadata": {},
   "outputs": [
    {
     "data": {
      "text/plain": [
       "0.8134595437318431"
      ]
     },
     "execution_count": 466,
     "metadata": {},
     "output_type": "execute_result"
    }
   ],
   "source": [
    "r2_score(y_test, pred_test_GB)"
   ]
  },
  {
   "cell_type": "markdown",
   "id": "a12d1b4f-2ed2-4ea2-8fb2-fe84e61252af",
   "metadata": {},
   "source": [
    "## Parameter Tunning"
   ]
  },
  {
   "cell_type": "code",
   "execution_count": 469,
   "id": "529f6131-5cb3-4e9d-900a-26e6293361a3",
   "metadata": {},
   "outputs": [
    {
     "name": "stdout",
     "output_type": "stream",
     "text": [
      "Parameters currently in use:\n",
      "\n",
      "{'bootstrap': True,\n",
      " 'ccp_alpha': 0.0,\n",
      " 'criterion': 'squared_error',\n",
      " 'max_depth': None,\n",
      " 'max_features': 1.0,\n",
      " 'max_leaf_nodes': None,\n",
      " 'max_samples': None,\n",
      " 'min_impurity_decrease': 0.0,\n",
      " 'min_samples_leaf': 1,\n",
      " 'min_samples_split': 2,\n",
      " 'min_weight_fraction_leaf': 0.0,\n",
      " 'monotonic_cst': None,\n",
      " 'n_estimators': 100,\n",
      " 'n_jobs': None,\n",
      " 'oob_score': False,\n",
      " 'random_state': 42,\n",
      " 'verbose': 0,\n",
      " 'warm_start': False}\n"
     ]
    }
   ],
   "source": [
    "from sklearn.ensemble import RandomForestRegressor\n",
    "rf = RandomForestRegressor(random_state = 42)\n",
    "from pprint import pprint\n",
    "# Look at parameter used by our current post\n",
    "print(\"Parameters currently in use:\\n\")\n",
    "pprint(rf.get_params())"
   ]
  },
  {
   "cell_type": "code",
   "execution_count": 471,
   "id": "41815588-e5dc-49b5-9a88-d425fcd3863a",
   "metadata": {},
   "outputs": [],
   "source": [
    "## Random Hyerparameter Grid\n",
    "from sklearn.model_selection import train_test_split,RandomizedSearchCV"
   ]
  },
  {
   "cell_type": "code",
   "execution_count": 473,
   "id": "fec85763-e742-4fca-a23e-74b2c070a13c",
   "metadata": {},
   "outputs": [
    {
     "name": "stdout",
     "output_type": "stream",
     "text": [
      "Random Search CV Random Forest Regressor Model Performance: \n",
      "Best_parameters=  {'n_estimators': 15, 'max_depth': 9}\n",
      "R-squared = 0.8.\n",
      "RMSE= 0.2373410611350033\n"
     ]
    }
   ],
   "source": [
    "## Random Search CV Random Forest Model\n",
    "\n",
    "RRF = RandomForestRegressor(random_state=0)\n",
    "n_estimators = list(range(1,20,2))\n",
    "depth = list(range(1,100,2))\n",
    "\n",
    "#Create the random grid\n",
    "rand_grid = {'n_estimators':n_estimators,'max_depth':depth}\n",
    "\n",
    "randomcv_rf = RandomizedSearchCV(RRF, param_distributions = rand_grid, n_iter =5,cv =5, random_state= 0)\n",
    "randomcv_rf = randomcv_rf.fit(X_train, y_train)\n",
    "predictions_RRF = randomcv_rf.predict(X_test)\n",
    "\n",
    "view_best_params_RRF = randomcv_rf.best_params_\n",
    "\n",
    "best_model=randomcv_rf.best_estimator_\n",
    "\n",
    "predictions_RRF= best_model.predict(X_test)\n",
    "\n",
    "# Calculate R^2 \n",
    "\n",
    "RRF_r2= r2_score(y_test, predictions_RRF)\n",
    "\n",
    "# Calculating RMSE\n",
    "\n",
    "RRF_rmse = np.sqrt(mean_squared_error(y_test, predictions_RRF))\n",
    "\n",
    "print('Random Search CV Random Forest Regressor Model Performance: ')\n",
    "print('Best_parameters= ', view_best_params_RRF)\n",
    "print('R-squared = {:0.2}.'.format(RRF_r2))\n",
    "print('RMSE=' ,RRF_rmse)"
   ]
  },
  {
   "cell_type": "code",
   "execution_count": 474,
   "id": "2a041470-7994-417e-b50a-da6c138ca436",
   "metadata": {},
   "outputs": [
    {
     "name": "stdout",
     "output_type": "stream",
     "text": [
      "Parameters currently in use:\n",
      "\n",
      "{'alpha': 0.9,\n",
      " 'ccp_alpha': 0.0,\n",
      " 'criterion': 'friedman_mse',\n",
      " 'init': None,\n",
      " 'learning_rate': 0.1,\n",
      " 'loss': 'squared_error',\n",
      " 'max_depth': 3,\n",
      " 'max_features': None,\n",
      " 'max_leaf_nodes': None,\n",
      " 'min_impurity_decrease': 0.0,\n",
      " 'min_samples_leaf': 1,\n",
      " 'min_samples_split': 2,\n",
      " 'min_weight_fraction_leaf': 0.0,\n",
      " 'n_estimators': 100,\n",
      " 'n_iter_no_change': None,\n",
      " 'random_state': 42,\n",
      " 'subsample': 1.0,\n",
      " 'tol': 0.0001,\n",
      " 'validation_fraction': 0.1,\n",
      " 'verbose': 0,\n",
      " 'warm_start': False}\n"
     ]
    }
   ],
   "source": [
    "# Applying Random Search CV on  Gradient Boosting Regressor\n",
    "from sklearn.ensemble import GradientBoostingRegressor\n",
    "gb = GradientBoostingRegressor(random_state = 42)\n",
    "from pprint import pprint\n",
    "# Look at parameter used by our current post\n",
    "print(\"Parameters currently in use:\\n\")\n",
    "pprint(gb.get_params())"
   ]
  },
  {
   "cell_type": "code",
   "execution_count": 477,
   "id": "718861eb-49c6-464e-827c-53dd5773aabe",
   "metadata": {},
   "outputs": [
    {
     "name": "stdout",
     "output_type": "stream",
     "text": [
      "Random Search CV  Gradient Boosting Regressor Model Performance: \n",
      "Best_parameters=  {'n_estimators': 15, 'max_depth': 9}\n",
      "R-squared = 0.77.\n",
      "RMSE= 0.25226513358657066\n"
     ]
    }
   ],
   "source": [
    "## Random Search CV  Gradient Boosting Regressor\n",
    "\n",
    "gb =  GradientBoostingRegressor(random_state=0)\n",
    "n_estimators = list(range(1,20,2))\n",
    "depth = list(range(1,100,2))\n",
    "\n",
    "#Create the random grid\n",
    "rand_grid = {'n_estimators':n_estimators,'max_depth':depth}\n",
    "\n",
    "randomcv_gb = RandomizedSearchCV(gb, param_distributions = rand_grid, n_iter =5,cv =5, random_state= 0)\n",
    "randomcv_gb = randomcv_gb.fit(X_train, y_train)\n",
    "predictions_gb = randomcv_gb.predict(X_test)\n",
    "\n",
    "view_best_params_gb = randomcv_gb.best_params_\n",
    "\n",
    "best_model= randomcv_gb.best_estimator_\n",
    "\n",
    "predictions_GB= best_model.predict(X_test)\n",
    "\n",
    "# Calculate R^2 \n",
    "GB_r2= r2_score(y_test, predictions_GB)\n",
    "\n",
    "# Calculating RMSE\n",
    "GB_rmse = np.sqrt(mean_squared_error(y_test, predictions_GB))\n",
    "\n",
    "print('Random Search CV  Gradient Boosting Regressor Model Performance: ')\n",
    "print('Best_parameters= ', view_best_params_gb)\n",
    "print('R-squared = {:0.2}.'.format(GB_r2))\n",
    "print('RMSE=' ,GB_rmse)"
   ]
  },
  {
   "cell_type": "code",
   "execution_count": 479,
   "id": "7db63f4b-db29-47b7-b20f-dfca77fe2307",
   "metadata": {},
   "outputs": [
    {
     "name": "stdout",
     "output_type": "stream",
     "text": [
      "Grid Search CV  Gradient Boosting Regressor Model Performance: \n",
      "Best_parameters=  {'max_depth': 5, 'n_estimators': 19}\n",
      "R-squared = 0.8.\n",
      "RMSE= 0.23724212611002213\n"
     ]
    }
   ],
   "source": [
    "##( Random Search) Grid Search CV  on Random Forest\n",
    "\n",
    "GRF =  GradientBoostingRegressor(random_state=0)\n",
    "n_estimators = list(range(11,20,1))\n",
    "depth = list(range(5,15,2))\n",
    "\n",
    "#Create the grid_search\n",
    "grid_search = {'n_estimators':n_estimators,'max_depth':depth}\n",
    "\n",
    "gridcv_rf = GridSearchCV(GRF, param_grid = grid_search,cv =5 )\n",
    "gridcv_RF = gridcv_rf.fit(X_train, y_train)\n",
    "predictions_GRF = gridcv_RF.predict(X_test)\n",
    "\n",
    "view_best_params_GRF = gridcv_RF.best_params_\n",
    "\n",
    "best_model= gridcv_RF.best_estimator_\n",
    "\n",
    "predictions_GRF= best_model.predict(X_test)\n",
    "\n",
    "# Calculate R^2 \n",
    "GRF_r2= r2_score(y_test, predictions_GRF)\n",
    "\n",
    "# Calculating RMSE\n",
    "GRF_rmse = np.sqrt(mean_squared_error(y_test, predictions_GRF))\n",
    "\n",
    "print('Grid Search CV  Gradient Boosting Regressor Model Performance: ')\n",
    "print('Best_parameters= ', view_best_params_GRF)\n",
    "print('R-squared = {:0.2}.'.format(GRF_r2))\n",
    "print('RMSE=' ,GRF_rmse)"
   ]
  },
  {
   "cell_type": "code",
   "execution_count": 481,
   "id": "d720f186-1489-44bb-b691-7be2ab810abd",
   "metadata": {},
   "outputs": [
    {
     "name": "stdout",
     "output_type": "stream",
     "text": [
      "Grid Search CV  Gradient Boosting Regressor Model Performance: \n",
      "Best_parameters=  {'max_depth': 5, 'n_estimators': 19}\n",
      "R-squared = 0.8.\n",
      "RMSE= 0.23724212611002213\n"
     ]
    }
   ],
   "source": [
    "## (Random Search) Grid Serach CV  on Gradient Boosting\n",
    "\n",
    "GGB =  GradientBoostingRegressor(random_state=0)\n",
    "n_estimators = list(range(11,20,1))\n",
    "depth = list(range(5,15,2))\n",
    "\n",
    "#Create the grid_search\n",
    "grid_search = {'n_estimators':n_estimators,'max_depth':depth}\n",
    "\n",
    "gridcv_gb = GridSearchCV(GGB, param_grid = grid_search,cv =5 )\n",
    "gridcv_GB = gridcv_gb.fit(X_train, y_train)\n",
    "predictions_GGB = gridcv_GB.predict(X_test)\n",
    "\n",
    "view_best_params_GGB = gridcv_GB.best_params_\n",
    "\n",
    "best_model= gridcv_GB.best_estimator_\n",
    "\n",
    "predictions_GGB= best_model.predict(X_test)\n",
    "\n",
    "# Calculate R^2 \n",
    "GGB_r2= r2_score(y_test, predictions_GGB)\n",
    "\n",
    "# Calculating RMSE\n",
    "GGB_rmse = np.sqrt(mean_squared_error(y_test, predictions_GGB))\n",
    "\n",
    "print('Grid Search CV  Gradient Boosting Regressor Model Performance: ')\n",
    "print('Best_parameters= ', view_best_params_GGB)\n",
    "print('R-squared = {:0.2}.'.format(GGB_r2))\n",
    "print('RMSE=' ,GGB_rmse)"
   ]
  },
  {
   "cell_type": "markdown",
   "id": "04be196a-2b41-4f85-bebf-fd59cb64b2e5",
   "metadata": {},
   "source": [
    "## Prediction of fare from provided test dataset"
   ]
  },
  {
   "cell_type": "code",
   "execution_count": 486,
   "id": "efd98fc7-f90a-4901-aaba-23229f290196",
   "metadata": {},
   "outputs": [
    {
     "name": "stdout",
     "output_type": "stream",
     "text": [
      "Best parameters found:  {'max_depth': 7, 'n_estimators': 15}\n"
     ]
    }
   ],
   "source": [
    "from sklearn.ensemble import RandomForestRegressor\n",
    "from sklearn.model_selection import GridSearchCV\n",
    "\n",
    "# Initialize the Random Forest Regressor\n",
    "regr = RandomForestRegressor(random_state=0)\n",
    "\n",
    "# Define the parameter grid\n",
    "n_estimators = list(range(11, 20, 1))\n",
    "depth = list(range(5, 15, 2))\n",
    "grid_search = {'n_estimators': n_estimators, 'max_depth': depth}\n",
    "\n",
    "# Perform Grid Search with 5-fold Cross-Validation\n",
    "gridcv_rf = GridSearchCV(regr, param_grid=grid_search, cv=5)\n",
    "gridcv_rf = gridcv_rf.fit(X_train, y_train)\n",
    "\n",
    "# View the best parameters found by Grid Search\n",
    "view_best_params_GRF = gridcv_rf.best_params_\n",
    "print(\"Best parameters found: \", view_best_params_GRF)\n",
    "\n",
    "# Ensure the test set has the same columns as the training set\n",
    "missing_cols = set(X_train.columns) - set(test.columns)\n",
    "for col in missing_cols:\n",
    "    test[col] = 0  # or use a more appropriate default value\n",
    "\n",
    "# Reorder columns to match the training data\n",
    "test = test[X_train.columns]\n",
    "\n",
    "# Apply the model to the test data\n",
    "prediction_GRF_test = gridcv_rf.predict(test)\n",
    "\n"
   ]
  },
  {
   "cell_type": "code",
   "execution_count": 488,
   "id": "aa94c6b5-b75c-4265-9ecc-5611ede09305",
   "metadata": {},
   "outputs": [
    {
     "name": "stdout",
     "output_type": "stream",
     "text": [
      "Predictions on test data:  [2.37543359 2.39413478 1.68070503 ... 4.00620024 3.30834716 2.04017073]\n"
     ]
    }
   ],
   "source": [
    "# Output the predictions\n",
    "print(\"Predictions on test data: \", prediction_GRF_test)"
   ]
  },
  {
   "cell_type": "code",
   "execution_count": 490,
   "id": "29ebc3b4-8d73-4e42-9684-1c0572d33e93",
   "metadata": {},
   "outputs": [],
   "source": [
    "test[\"Predicted_Fare\"]= prediction_GRF_test"
   ]
  },
  {
   "cell_type": "code",
   "execution_count": 492,
   "id": "4e2ae09d-69af-4ecf-8dee-ae9948ac4a6c",
   "metadata": {},
   "outputs": [
    {
     "data": {
      "text/html": [
       "<div>\n",
       "<style scoped>\n",
       "    .dataframe tbody tr th:only-of-type {\n",
       "        vertical-align: middle;\n",
       "    }\n",
       "\n",
       "    .dataframe tbody tr th {\n",
       "        vertical-align: top;\n",
       "    }\n",
       "\n",
       "    .dataframe thead th {\n",
       "        text-align: right;\n",
       "    }\n",
       "</style>\n",
       "<table border=\"1\" class=\"dataframe\">\n",
       "  <thead>\n",
       "    <tr style=\"text-align: right;\">\n",
       "      <th></th>\n",
       "      <th>passenger_count</th>\n",
       "      <th>year</th>\n",
       "      <th>month</th>\n",
       "      <th>Date</th>\n",
       "      <th>Day</th>\n",
       "      <th>Hour</th>\n",
       "      <th>distance</th>\n",
       "      <th>Predicted_Fare</th>\n",
       "    </tr>\n",
       "  </thead>\n",
       "  <tbody>\n",
       "    <tr>\n",
       "      <th>0</th>\n",
       "      <td>1</td>\n",
       "      <td>2015</td>\n",
       "      <td>1</td>\n",
       "      <td>27</td>\n",
       "      <td>1</td>\n",
       "      <td>13</td>\n",
       "      <td>1.200946</td>\n",
       "      <td>2.375434</td>\n",
       "    </tr>\n",
       "    <tr>\n",
       "      <th>1</th>\n",
       "      <td>1</td>\n",
       "      <td>2015</td>\n",
       "      <td>1</td>\n",
       "      <td>27</td>\n",
       "      <td>1</td>\n",
       "      <td>13</td>\n",
       "      <td>1.231205</td>\n",
       "      <td>2.394135</td>\n",
       "    </tr>\n",
       "    <tr>\n",
       "      <th>2</th>\n",
       "      <td>1</td>\n",
       "      <td>2011</td>\n",
       "      <td>10</td>\n",
       "      <td>8</td>\n",
       "      <td>5</td>\n",
       "      <td>11</td>\n",
       "      <td>0.481579</td>\n",
       "      <td>1.680705</td>\n",
       "    </tr>\n",
       "    <tr>\n",
       "      <th>3</th>\n",
       "      <td>1</td>\n",
       "      <td>2012</td>\n",
       "      <td>12</td>\n",
       "      <td>1</td>\n",
       "      <td>5</td>\n",
       "      <td>21</td>\n",
       "      <td>1.085538</td>\n",
       "      <td>2.218272</td>\n",
       "    </tr>\n",
       "    <tr>\n",
       "      <th>4</th>\n",
       "      <td>1</td>\n",
       "      <td>2012</td>\n",
       "      <td>12</td>\n",
       "      <td>1</td>\n",
       "      <td>5</td>\n",
       "      <td>21</td>\n",
       "      <td>1.854312</td>\n",
       "      <td>2.786595</td>\n",
       "    </tr>\n",
       "  </tbody>\n",
       "</table>\n",
       "</div>"
      ],
      "text/plain": [
       "   passenger_count  year  month  Date  Day  Hour  distance  Predicted_Fare\n",
       "0                1  2015      1    27    1    13  1.200946        2.375434\n",
       "1                1  2015      1    27    1    13  1.231205        2.394135\n",
       "2                1  2011     10     8    5    11  0.481579        1.680705\n",
       "3                1  2012     12     1    5    21  1.085538        2.218272\n",
       "4                1  2012     12     1    5    21  1.854312        2.786595"
      ]
     },
     "execution_count": 492,
     "metadata": {},
     "output_type": "execute_result"
    }
   ],
   "source": [
    "test.head()"
   ]
  },
  {
   "cell_type": "code",
   "execution_count": 494,
   "id": "b6377716-d1e1-4893-a441-1a952261f340",
   "metadata": {},
   "outputs": [],
   "source": [
    "test.to_csv(\"test.csv\")"
   ]
  },
  {
   "cell_type": "code",
   "execution_count": null,
   "id": "fc48caea-01ff-4f74-b98e-df226a81b835",
   "metadata": {},
   "outputs": [],
   "source": []
  }
 ],
 "metadata": {
  "kernelspec": {
   "display_name": "Python 3 (ipykernel)",
   "language": "python",
   "name": "python3"
  },
  "language_info": {
   "codemirror_mode": {
    "name": "ipython",
    "version": 3
   },
   "file_extension": ".py",
   "mimetype": "text/x-python",
   "name": "python",
   "nbconvert_exporter": "python",
   "pygments_lexer": "ipython3",
   "version": "3.12.3"
  }
 },
 "nbformat": 4,
 "nbformat_minor": 5
}
